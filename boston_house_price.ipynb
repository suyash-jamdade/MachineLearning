{
  "nbformat": 4,
  "nbformat_minor": 0,
  "metadata": {
    "colab": {
      "name": "Welcome To Colaboratory",
      "provenance": [],
      "collapsed_sections": [],
      "include_colab_link": true
    },
    "kernelspec": {
      "display_name": "Python 3",
      "name": "python3"
    }
  },
  "cells": [
    {
      "cell_type": "markdown",
      "metadata": {
        "id": "view-in-github",
        "colab_type": "text"
      },
      "source": [
        "<a href=\"https://colab.research.google.com/github/suyash-jamdade/MachineLearning/blob/master/boston_house_price.ipynb\" target=\"_parent\"><img src=\"https://colab.research.google.com/assets/colab-badge.svg\" alt=\"Open In Colab\"/></a>"
      ]
    },
    {
      "cell_type": "code",
      "metadata": {
        "id": "LQgvg5YoErn9",
        "colab_type": "code",
        "colab": {}
      },
      "source": [
        "import pandas as pd\n",
        "import numpy as np\n",
        "\n",
        "import matplotlib as mpl\n",
        "import matplotlib.pyplot as plt\n",
        "\n",
        "from matplotlib.animation import FuncAnimation\n",
        "\n",
        "from sklearn.datasets import load_boston\n",
        "from sklearn.metrics import mean_squared_error\n",
        "from sklearn.model_selection import train_test_split\n",
        "from sklearn.preprocessing import MinMaxScaler\n",
        "from IPython.display import HTML"
      ],
      "execution_count": 0,
      "outputs": []
    },
    {
      "cell_type": "code",
      "metadata": {
        "id": "9_26MqSPErsi",
        "colab_type": "code",
        "outputId": "79b587b9-3b0f-4d1a-d6bd-5eb203283201",
        "colab": {
          "base_uri": "https://localhost:8080/",
          "height": 935
        }
      },
      "source": [
        "boston=load_boston()\n",
        "print(boston.DESCR)"
      ],
      "execution_count": 85,
      "outputs": [
        {
          "output_type": "stream",
          "text": [
            ".. _boston_dataset:\n",
            "\n",
            "Boston house prices dataset\n",
            "---------------------------\n",
            "\n",
            "**Data Set Characteristics:**  \n",
            "\n",
            "    :Number of Instances: 506 \n",
            "\n",
            "    :Number of Attributes: 13 numeric/categorical predictive. Median Value (attribute 14) is usually the target.\n",
            "\n",
            "    :Attribute Information (in order):\n",
            "        - CRIM     per capita crime rate by town\n",
            "        - ZN       proportion of residential land zoned for lots over 25,000 sq.ft.\n",
            "        - INDUS    proportion of non-retail business acres per town\n",
            "        - CHAS     Charles River dummy variable (= 1 if tract bounds river; 0 otherwise)\n",
            "        - NOX      nitric oxides concentration (parts per 10 million)\n",
            "        - RM       average number of rooms per dwelling\n",
            "        - AGE      proportion of owner-occupied units built prior to 1940\n",
            "        - DIS      weighted distances to five Boston employment centres\n",
            "        - RAD      index of accessibility to radial highways\n",
            "        - TAX      full-value property-tax rate per $10,000\n",
            "        - PTRATIO  pupil-teacher ratio by town\n",
            "        - B        1000(Bk - 0.63)^2 where Bk is the proportion of blacks by town\n",
            "        - LSTAT    % lower status of the population\n",
            "        - MEDV     Median value of owner-occupied homes in $1000's\n",
            "\n",
            "    :Missing Attribute Values: None\n",
            "\n",
            "    :Creator: Harrison, D. and Rubinfeld, D.L.\n",
            "\n",
            "This is a copy of UCI ML housing dataset.\n",
            "https://archive.ics.uci.edu/ml/machine-learning-databases/housing/\n",
            "\n",
            "\n",
            "This dataset was taken from the StatLib library which is maintained at Carnegie Mellon University.\n",
            "\n",
            "The Boston house-price data of Harrison, D. and Rubinfeld, D.L. 'Hedonic\n",
            "prices and the demand for clean air', J. Environ. Economics & Management,\n",
            "vol.5, 81-102, 1978.   Used in Belsley, Kuh & Welsch, 'Regression diagnostics\n",
            "...', Wiley, 1980.   N.B. Various transformations are used in the table on\n",
            "pages 244-261 of the latter.\n",
            "\n",
            "The Boston house-price data has been used in many machine learning papers that address regression\n",
            "problems.   \n",
            "     \n",
            ".. topic:: References\n",
            "\n",
            "   - Belsley, Kuh & Welsch, 'Regression diagnostics: Identifying Influential Data and Sources of Collinearity', Wiley, 1980. 244-261.\n",
            "   - Quinlan,R. (1993). Combining Instance-Based and Model-Based Learning. In Proceedings on the Tenth International Conference of Machine Learning, 236-243, University of Massachusetts, Amherst. Morgan Kaufmann.\n",
            "\n"
          ],
          "name": "stdout"
        }
      ]
    },
    {
      "cell_type": "code",
      "metadata": {
        "id": "rm6bsZZZErvI",
        "colab_type": "code",
        "outputId": "54b93746-7160-4e19-ca8c-6243acdaae20",
        "colab": {
          "base_uri": "https://localhost:8080/",
          "height": 424
        }
      },
      "source": [
        "features = pd.DataFrame(boston.data,columns=boston.feature_names)\n",
        "features"
      ],
      "execution_count": 86,
      "outputs": [
        {
          "output_type": "execute_result",
          "data": {
            "text/html": [
              "<div>\n",
              "<style scoped>\n",
              "    .dataframe tbody tr th:only-of-type {\n",
              "        vertical-align: middle;\n",
              "    }\n",
              "\n",
              "    .dataframe tbody tr th {\n",
              "        vertical-align: top;\n",
              "    }\n",
              "\n",
              "    .dataframe thead th {\n",
              "        text-align: right;\n",
              "    }\n",
              "</style>\n",
              "<table border=\"1\" class=\"dataframe\">\n",
              "  <thead>\n",
              "    <tr style=\"text-align: right;\">\n",
              "      <th></th>\n",
              "      <th>CRIM</th>\n",
              "      <th>ZN</th>\n",
              "      <th>INDUS</th>\n",
              "      <th>CHAS</th>\n",
              "      <th>NOX</th>\n",
              "      <th>RM</th>\n",
              "      <th>AGE</th>\n",
              "      <th>DIS</th>\n",
              "      <th>RAD</th>\n",
              "      <th>TAX</th>\n",
              "      <th>PTRATIO</th>\n",
              "      <th>B</th>\n",
              "      <th>LSTAT</th>\n",
              "    </tr>\n",
              "  </thead>\n",
              "  <tbody>\n",
              "    <tr>\n",
              "      <th>0</th>\n",
              "      <td>0.00632</td>\n",
              "      <td>18.0</td>\n",
              "      <td>2.31</td>\n",
              "      <td>0.0</td>\n",
              "      <td>0.538</td>\n",
              "      <td>6.575</td>\n",
              "      <td>65.2</td>\n",
              "      <td>4.0900</td>\n",
              "      <td>1.0</td>\n",
              "      <td>296.0</td>\n",
              "      <td>15.3</td>\n",
              "      <td>396.90</td>\n",
              "      <td>4.98</td>\n",
              "    </tr>\n",
              "    <tr>\n",
              "      <th>1</th>\n",
              "      <td>0.02731</td>\n",
              "      <td>0.0</td>\n",
              "      <td>7.07</td>\n",
              "      <td>0.0</td>\n",
              "      <td>0.469</td>\n",
              "      <td>6.421</td>\n",
              "      <td>78.9</td>\n",
              "      <td>4.9671</td>\n",
              "      <td>2.0</td>\n",
              "      <td>242.0</td>\n",
              "      <td>17.8</td>\n",
              "      <td>396.90</td>\n",
              "      <td>9.14</td>\n",
              "    </tr>\n",
              "    <tr>\n",
              "      <th>2</th>\n",
              "      <td>0.02729</td>\n",
              "      <td>0.0</td>\n",
              "      <td>7.07</td>\n",
              "      <td>0.0</td>\n",
              "      <td>0.469</td>\n",
              "      <td>7.185</td>\n",
              "      <td>61.1</td>\n",
              "      <td>4.9671</td>\n",
              "      <td>2.0</td>\n",
              "      <td>242.0</td>\n",
              "      <td>17.8</td>\n",
              "      <td>392.83</td>\n",
              "      <td>4.03</td>\n",
              "    </tr>\n",
              "    <tr>\n",
              "      <th>3</th>\n",
              "      <td>0.03237</td>\n",
              "      <td>0.0</td>\n",
              "      <td>2.18</td>\n",
              "      <td>0.0</td>\n",
              "      <td>0.458</td>\n",
              "      <td>6.998</td>\n",
              "      <td>45.8</td>\n",
              "      <td>6.0622</td>\n",
              "      <td>3.0</td>\n",
              "      <td>222.0</td>\n",
              "      <td>18.7</td>\n",
              "      <td>394.63</td>\n",
              "      <td>2.94</td>\n",
              "    </tr>\n",
              "    <tr>\n",
              "      <th>4</th>\n",
              "      <td>0.06905</td>\n",
              "      <td>0.0</td>\n",
              "      <td>2.18</td>\n",
              "      <td>0.0</td>\n",
              "      <td>0.458</td>\n",
              "      <td>7.147</td>\n",
              "      <td>54.2</td>\n",
              "      <td>6.0622</td>\n",
              "      <td>3.0</td>\n",
              "      <td>222.0</td>\n",
              "      <td>18.7</td>\n",
              "      <td>396.90</td>\n",
              "      <td>5.33</td>\n",
              "    </tr>\n",
              "    <tr>\n",
              "      <th>...</th>\n",
              "      <td>...</td>\n",
              "      <td>...</td>\n",
              "      <td>...</td>\n",
              "      <td>...</td>\n",
              "      <td>...</td>\n",
              "      <td>...</td>\n",
              "      <td>...</td>\n",
              "      <td>...</td>\n",
              "      <td>...</td>\n",
              "      <td>...</td>\n",
              "      <td>...</td>\n",
              "      <td>...</td>\n",
              "      <td>...</td>\n",
              "    </tr>\n",
              "    <tr>\n",
              "      <th>501</th>\n",
              "      <td>0.06263</td>\n",
              "      <td>0.0</td>\n",
              "      <td>11.93</td>\n",
              "      <td>0.0</td>\n",
              "      <td>0.573</td>\n",
              "      <td>6.593</td>\n",
              "      <td>69.1</td>\n",
              "      <td>2.4786</td>\n",
              "      <td>1.0</td>\n",
              "      <td>273.0</td>\n",
              "      <td>21.0</td>\n",
              "      <td>391.99</td>\n",
              "      <td>9.67</td>\n",
              "    </tr>\n",
              "    <tr>\n",
              "      <th>502</th>\n",
              "      <td>0.04527</td>\n",
              "      <td>0.0</td>\n",
              "      <td>11.93</td>\n",
              "      <td>0.0</td>\n",
              "      <td>0.573</td>\n",
              "      <td>6.120</td>\n",
              "      <td>76.7</td>\n",
              "      <td>2.2875</td>\n",
              "      <td>1.0</td>\n",
              "      <td>273.0</td>\n",
              "      <td>21.0</td>\n",
              "      <td>396.90</td>\n",
              "      <td>9.08</td>\n",
              "    </tr>\n",
              "    <tr>\n",
              "      <th>503</th>\n",
              "      <td>0.06076</td>\n",
              "      <td>0.0</td>\n",
              "      <td>11.93</td>\n",
              "      <td>0.0</td>\n",
              "      <td>0.573</td>\n",
              "      <td>6.976</td>\n",
              "      <td>91.0</td>\n",
              "      <td>2.1675</td>\n",
              "      <td>1.0</td>\n",
              "      <td>273.0</td>\n",
              "      <td>21.0</td>\n",
              "      <td>396.90</td>\n",
              "      <td>5.64</td>\n",
              "    </tr>\n",
              "    <tr>\n",
              "      <th>504</th>\n",
              "      <td>0.10959</td>\n",
              "      <td>0.0</td>\n",
              "      <td>11.93</td>\n",
              "      <td>0.0</td>\n",
              "      <td>0.573</td>\n",
              "      <td>6.794</td>\n",
              "      <td>89.3</td>\n",
              "      <td>2.3889</td>\n",
              "      <td>1.0</td>\n",
              "      <td>273.0</td>\n",
              "      <td>21.0</td>\n",
              "      <td>393.45</td>\n",
              "      <td>6.48</td>\n",
              "    </tr>\n",
              "    <tr>\n",
              "      <th>505</th>\n",
              "      <td>0.04741</td>\n",
              "      <td>0.0</td>\n",
              "      <td>11.93</td>\n",
              "      <td>0.0</td>\n",
              "      <td>0.573</td>\n",
              "      <td>6.030</td>\n",
              "      <td>80.8</td>\n",
              "      <td>2.5050</td>\n",
              "      <td>1.0</td>\n",
              "      <td>273.0</td>\n",
              "      <td>21.0</td>\n",
              "      <td>396.90</td>\n",
              "      <td>7.88</td>\n",
              "    </tr>\n",
              "  </tbody>\n",
              "</table>\n",
              "<p>506 rows × 13 columns</p>\n",
              "</div>"
            ],
            "text/plain": [
              "        CRIM    ZN  INDUS  CHAS    NOX  ...  RAD    TAX  PTRATIO       B  LSTAT\n",
              "0    0.00632  18.0   2.31   0.0  0.538  ...  1.0  296.0     15.3  396.90   4.98\n",
              "1    0.02731   0.0   7.07   0.0  0.469  ...  2.0  242.0     17.8  396.90   9.14\n",
              "2    0.02729   0.0   7.07   0.0  0.469  ...  2.0  242.0     17.8  392.83   4.03\n",
              "3    0.03237   0.0   2.18   0.0  0.458  ...  3.0  222.0     18.7  394.63   2.94\n",
              "4    0.06905   0.0   2.18   0.0  0.458  ...  3.0  222.0     18.7  396.90   5.33\n",
              "..       ...   ...    ...   ...    ...  ...  ...    ...      ...     ...    ...\n",
              "501  0.06263   0.0  11.93   0.0  0.573  ...  1.0  273.0     21.0  391.99   9.67\n",
              "502  0.04527   0.0  11.93   0.0  0.573  ...  1.0  273.0     21.0  396.90   9.08\n",
              "503  0.06076   0.0  11.93   0.0  0.573  ...  1.0  273.0     21.0  396.90   5.64\n",
              "504  0.10959   0.0  11.93   0.0  0.573  ...  1.0  273.0     21.0  393.45   6.48\n",
              "505  0.04741   0.0  11.93   0.0  0.573  ...  1.0  273.0     21.0  396.90   7.88\n",
              "\n",
              "[506 rows x 13 columns]"
            ]
          },
          "metadata": {
            "tags": []
          },
          "execution_count": 86
        }
      ]
    },
    {
      "cell_type": "code",
      "metadata": {
        "id": "pwe0PhcnEr0O",
        "colab_type": "code",
        "outputId": "caabaa70-d49d-4aba-a6c2-bcf017499b13",
        "colab": {
          "base_uri": "https://localhost:8080/",
          "height": 424
        }
      },
      "source": [
        "target = pd.DataFrame(boston.target,columns=['target'])\n",
        "target"
      ],
      "execution_count": 87,
      "outputs": [
        {
          "output_type": "execute_result",
          "data": {
            "text/html": [
              "<div>\n",
              "<style scoped>\n",
              "    .dataframe tbody tr th:only-of-type {\n",
              "        vertical-align: middle;\n",
              "    }\n",
              "\n",
              "    .dataframe tbody tr th {\n",
              "        vertical-align: top;\n",
              "    }\n",
              "\n",
              "    .dataframe thead th {\n",
              "        text-align: right;\n",
              "    }\n",
              "</style>\n",
              "<table border=\"1\" class=\"dataframe\">\n",
              "  <thead>\n",
              "    <tr style=\"text-align: right;\">\n",
              "      <th></th>\n",
              "      <th>target</th>\n",
              "    </tr>\n",
              "  </thead>\n",
              "  <tbody>\n",
              "    <tr>\n",
              "      <th>0</th>\n",
              "      <td>24.0</td>\n",
              "    </tr>\n",
              "    <tr>\n",
              "      <th>1</th>\n",
              "      <td>21.6</td>\n",
              "    </tr>\n",
              "    <tr>\n",
              "      <th>2</th>\n",
              "      <td>34.7</td>\n",
              "    </tr>\n",
              "    <tr>\n",
              "      <th>3</th>\n",
              "      <td>33.4</td>\n",
              "    </tr>\n",
              "    <tr>\n",
              "      <th>4</th>\n",
              "      <td>36.2</td>\n",
              "    </tr>\n",
              "    <tr>\n",
              "      <th>...</th>\n",
              "      <td>...</td>\n",
              "    </tr>\n",
              "    <tr>\n",
              "      <th>501</th>\n",
              "      <td>22.4</td>\n",
              "    </tr>\n",
              "    <tr>\n",
              "      <th>502</th>\n",
              "      <td>20.6</td>\n",
              "    </tr>\n",
              "    <tr>\n",
              "      <th>503</th>\n",
              "      <td>23.9</td>\n",
              "    </tr>\n",
              "    <tr>\n",
              "      <th>504</th>\n",
              "      <td>22.0</td>\n",
              "    </tr>\n",
              "    <tr>\n",
              "      <th>505</th>\n",
              "      <td>11.9</td>\n",
              "    </tr>\n",
              "  </tbody>\n",
              "</table>\n",
              "<p>506 rows × 1 columns</p>\n",
              "</div>"
            ],
            "text/plain": [
              "     target\n",
              "0      24.0\n",
              "1      21.6\n",
              "2      34.7\n",
              "3      33.4\n",
              "4      36.2\n",
              "..      ...\n",
              "501    22.4\n",
              "502    20.6\n",
              "503    23.9\n",
              "504    22.0\n",
              "505    11.9\n",
              "\n",
              "[506 rows x 1 columns]"
            ]
          },
          "metadata": {
            "tags": []
          },
          "execution_count": 87
        }
      ]
    },
    {
      "cell_type": "code",
      "metadata": {
        "id": "dtwa7xdLEr2n",
        "colab_type": "code",
        "outputId": "bd2bbce0-3b01-48a1-a5f1-248d99ee67d6",
        "colab": {
          "base_uri": "https://localhost:8080/",
          "height": 35
        }
      },
      "source": [
        "min(target['target'])"
      ],
      "execution_count": 88,
      "outputs": [
        {
          "output_type": "execute_result",
          "data": {
            "text/plain": [
              "5.0"
            ]
          },
          "metadata": {
            "tags": []
          },
          "execution_count": 88
        }
      ]
    },
    {
      "cell_type": "code",
      "metadata": {
        "id": "mQgtSFQCEr5U",
        "colab_type": "code",
        "outputId": "e620fb1d-d3a1-45cd-a93b-19f101cc90b1",
        "colab": {
          "base_uri": "https://localhost:8080/",
          "height": 424
        }
      },
      "source": [
        "df = pd.concat([features,target],axis=1)\n",
        "df"
      ],
      "execution_count": 89,
      "outputs": [
        {
          "output_type": "execute_result",
          "data": {
            "text/html": [
              "<div>\n",
              "<style scoped>\n",
              "    .dataframe tbody tr th:only-of-type {\n",
              "        vertical-align: middle;\n",
              "    }\n",
              "\n",
              "    .dataframe tbody tr th {\n",
              "        vertical-align: top;\n",
              "    }\n",
              "\n",
              "    .dataframe thead th {\n",
              "        text-align: right;\n",
              "    }\n",
              "</style>\n",
              "<table border=\"1\" class=\"dataframe\">\n",
              "  <thead>\n",
              "    <tr style=\"text-align: right;\">\n",
              "      <th></th>\n",
              "      <th>CRIM</th>\n",
              "      <th>ZN</th>\n",
              "      <th>INDUS</th>\n",
              "      <th>CHAS</th>\n",
              "      <th>NOX</th>\n",
              "      <th>RM</th>\n",
              "      <th>AGE</th>\n",
              "      <th>DIS</th>\n",
              "      <th>RAD</th>\n",
              "      <th>TAX</th>\n",
              "      <th>PTRATIO</th>\n",
              "      <th>B</th>\n",
              "      <th>LSTAT</th>\n",
              "      <th>target</th>\n",
              "    </tr>\n",
              "  </thead>\n",
              "  <tbody>\n",
              "    <tr>\n",
              "      <th>0</th>\n",
              "      <td>0.00632</td>\n",
              "      <td>18.0</td>\n",
              "      <td>2.31</td>\n",
              "      <td>0.0</td>\n",
              "      <td>0.538</td>\n",
              "      <td>6.575</td>\n",
              "      <td>65.2</td>\n",
              "      <td>4.0900</td>\n",
              "      <td>1.0</td>\n",
              "      <td>296.0</td>\n",
              "      <td>15.3</td>\n",
              "      <td>396.90</td>\n",
              "      <td>4.98</td>\n",
              "      <td>24.0</td>\n",
              "    </tr>\n",
              "    <tr>\n",
              "      <th>1</th>\n",
              "      <td>0.02731</td>\n",
              "      <td>0.0</td>\n",
              "      <td>7.07</td>\n",
              "      <td>0.0</td>\n",
              "      <td>0.469</td>\n",
              "      <td>6.421</td>\n",
              "      <td>78.9</td>\n",
              "      <td>4.9671</td>\n",
              "      <td>2.0</td>\n",
              "      <td>242.0</td>\n",
              "      <td>17.8</td>\n",
              "      <td>396.90</td>\n",
              "      <td>9.14</td>\n",
              "      <td>21.6</td>\n",
              "    </tr>\n",
              "    <tr>\n",
              "      <th>2</th>\n",
              "      <td>0.02729</td>\n",
              "      <td>0.0</td>\n",
              "      <td>7.07</td>\n",
              "      <td>0.0</td>\n",
              "      <td>0.469</td>\n",
              "      <td>7.185</td>\n",
              "      <td>61.1</td>\n",
              "      <td>4.9671</td>\n",
              "      <td>2.0</td>\n",
              "      <td>242.0</td>\n",
              "      <td>17.8</td>\n",
              "      <td>392.83</td>\n",
              "      <td>4.03</td>\n",
              "      <td>34.7</td>\n",
              "    </tr>\n",
              "    <tr>\n",
              "      <th>3</th>\n",
              "      <td>0.03237</td>\n",
              "      <td>0.0</td>\n",
              "      <td>2.18</td>\n",
              "      <td>0.0</td>\n",
              "      <td>0.458</td>\n",
              "      <td>6.998</td>\n",
              "      <td>45.8</td>\n",
              "      <td>6.0622</td>\n",
              "      <td>3.0</td>\n",
              "      <td>222.0</td>\n",
              "      <td>18.7</td>\n",
              "      <td>394.63</td>\n",
              "      <td>2.94</td>\n",
              "      <td>33.4</td>\n",
              "    </tr>\n",
              "    <tr>\n",
              "      <th>4</th>\n",
              "      <td>0.06905</td>\n",
              "      <td>0.0</td>\n",
              "      <td>2.18</td>\n",
              "      <td>0.0</td>\n",
              "      <td>0.458</td>\n",
              "      <td>7.147</td>\n",
              "      <td>54.2</td>\n",
              "      <td>6.0622</td>\n",
              "      <td>3.0</td>\n",
              "      <td>222.0</td>\n",
              "      <td>18.7</td>\n",
              "      <td>396.90</td>\n",
              "      <td>5.33</td>\n",
              "      <td>36.2</td>\n",
              "    </tr>\n",
              "    <tr>\n",
              "      <th>...</th>\n",
              "      <td>...</td>\n",
              "      <td>...</td>\n",
              "      <td>...</td>\n",
              "      <td>...</td>\n",
              "      <td>...</td>\n",
              "      <td>...</td>\n",
              "      <td>...</td>\n",
              "      <td>...</td>\n",
              "      <td>...</td>\n",
              "      <td>...</td>\n",
              "      <td>...</td>\n",
              "      <td>...</td>\n",
              "      <td>...</td>\n",
              "      <td>...</td>\n",
              "    </tr>\n",
              "    <tr>\n",
              "      <th>501</th>\n",
              "      <td>0.06263</td>\n",
              "      <td>0.0</td>\n",
              "      <td>11.93</td>\n",
              "      <td>0.0</td>\n",
              "      <td>0.573</td>\n",
              "      <td>6.593</td>\n",
              "      <td>69.1</td>\n",
              "      <td>2.4786</td>\n",
              "      <td>1.0</td>\n",
              "      <td>273.0</td>\n",
              "      <td>21.0</td>\n",
              "      <td>391.99</td>\n",
              "      <td>9.67</td>\n",
              "      <td>22.4</td>\n",
              "    </tr>\n",
              "    <tr>\n",
              "      <th>502</th>\n",
              "      <td>0.04527</td>\n",
              "      <td>0.0</td>\n",
              "      <td>11.93</td>\n",
              "      <td>0.0</td>\n",
              "      <td>0.573</td>\n",
              "      <td>6.120</td>\n",
              "      <td>76.7</td>\n",
              "      <td>2.2875</td>\n",
              "      <td>1.0</td>\n",
              "      <td>273.0</td>\n",
              "      <td>21.0</td>\n",
              "      <td>396.90</td>\n",
              "      <td>9.08</td>\n",
              "      <td>20.6</td>\n",
              "    </tr>\n",
              "    <tr>\n",
              "      <th>503</th>\n",
              "      <td>0.06076</td>\n",
              "      <td>0.0</td>\n",
              "      <td>11.93</td>\n",
              "      <td>0.0</td>\n",
              "      <td>0.573</td>\n",
              "      <td>6.976</td>\n",
              "      <td>91.0</td>\n",
              "      <td>2.1675</td>\n",
              "      <td>1.0</td>\n",
              "      <td>273.0</td>\n",
              "      <td>21.0</td>\n",
              "      <td>396.90</td>\n",
              "      <td>5.64</td>\n",
              "      <td>23.9</td>\n",
              "    </tr>\n",
              "    <tr>\n",
              "      <th>504</th>\n",
              "      <td>0.10959</td>\n",
              "      <td>0.0</td>\n",
              "      <td>11.93</td>\n",
              "      <td>0.0</td>\n",
              "      <td>0.573</td>\n",
              "      <td>6.794</td>\n",
              "      <td>89.3</td>\n",
              "      <td>2.3889</td>\n",
              "      <td>1.0</td>\n",
              "      <td>273.0</td>\n",
              "      <td>21.0</td>\n",
              "      <td>393.45</td>\n",
              "      <td>6.48</td>\n",
              "      <td>22.0</td>\n",
              "    </tr>\n",
              "    <tr>\n",
              "      <th>505</th>\n",
              "      <td>0.04741</td>\n",
              "      <td>0.0</td>\n",
              "      <td>11.93</td>\n",
              "      <td>0.0</td>\n",
              "      <td>0.573</td>\n",
              "      <td>6.030</td>\n",
              "      <td>80.8</td>\n",
              "      <td>2.5050</td>\n",
              "      <td>1.0</td>\n",
              "      <td>273.0</td>\n",
              "      <td>21.0</td>\n",
              "      <td>396.90</td>\n",
              "      <td>7.88</td>\n",
              "      <td>11.9</td>\n",
              "    </tr>\n",
              "  </tbody>\n",
              "</table>\n",
              "<p>506 rows × 14 columns</p>\n",
              "</div>"
            ],
            "text/plain": [
              "        CRIM    ZN  INDUS  CHAS    NOX  ...    TAX  PTRATIO       B  LSTAT  target\n",
              "0    0.00632  18.0   2.31   0.0  0.538  ...  296.0     15.3  396.90   4.98    24.0\n",
              "1    0.02731   0.0   7.07   0.0  0.469  ...  242.0     17.8  396.90   9.14    21.6\n",
              "2    0.02729   0.0   7.07   0.0  0.469  ...  242.0     17.8  392.83   4.03    34.7\n",
              "3    0.03237   0.0   2.18   0.0  0.458  ...  222.0     18.7  394.63   2.94    33.4\n",
              "4    0.06905   0.0   2.18   0.0  0.458  ...  222.0     18.7  396.90   5.33    36.2\n",
              "..       ...   ...    ...   ...    ...  ...    ...      ...     ...    ...     ...\n",
              "501  0.06263   0.0  11.93   0.0  0.573  ...  273.0     21.0  391.99   9.67    22.4\n",
              "502  0.04527   0.0  11.93   0.0  0.573  ...  273.0     21.0  396.90   9.08    20.6\n",
              "503  0.06076   0.0  11.93   0.0  0.573  ...  273.0     21.0  396.90   5.64    23.9\n",
              "504  0.10959   0.0  11.93   0.0  0.573  ...  273.0     21.0  393.45   6.48    22.0\n",
              "505  0.04741   0.0  11.93   0.0  0.573  ...  273.0     21.0  396.90   7.88    11.9\n",
              "\n",
              "[506 rows x 14 columns]"
            ]
          },
          "metadata": {
            "tags": []
          },
          "execution_count": 89
        }
      ]
    },
    {
      "cell_type": "code",
      "metadata": {
        "id": "smb7268oEr8Y",
        "colab_type": "code",
        "colab": {}
      },
      "source": [
        "corr = df.corr('pearson')"
      ],
      "execution_count": 0,
      "outputs": []
    },
    {
      "cell_type": "code",
      "metadata": {
        "id": "ZY89kRwcEr_G",
        "colab_type": "code",
        "colab": {}
      },
      "source": [
        "corrs = [abs(corr[attr]['target'])for attr in list(features)]"
      ],
      "execution_count": 0,
      "outputs": []
    },
    {
      "cell_type": "code",
      "metadata": {
        "id": "HaZGGQwFEsB0",
        "colab_type": "code",
        "colab": {}
      },
      "source": [
        "l = list(zip(corrs,list(features)))\n"
      ],
      "execution_count": 0,
      "outputs": []
    },
    {
      "cell_type": "code",
      "metadata": {
        "id": "fH07_iz-EsEv",
        "colab_type": "code",
        "colab": {}
      },
      "source": [
        "#sort a list of pairs in reverse order/descending order\n",
        "#with the correlation value as the key for sorting\n",
        "l.sort(key = lambda x: x[0],reverse= True)\n",
        "\n",
        "#unzip pairs to two lists\n",
        "#zip is an inbuild function in python that allows to combine multiple lists\n",
        "corrs,labels = list(zip((*l)))\n"
      ],
      "execution_count": 0,
      "outputs": []
    },
    {
      "cell_type": "code",
      "metadata": {
        "id": "Giwhg-PbEsHr",
        "colab_type": "code",
        "outputId": "fd36a1ac-d693-400c-d73a-6aeb4a474d80",
        "colab": {
          "base_uri": "https://localhost:8080/",
          "height": 334
        }
      },
      "source": [
        "index = np.arange (len(labels))\n",
        "plt.figure(figsize=(15,5))\n",
        "plt.bar(index , corrs ,width=0.5)\n",
        "plt.xlabel('Atributes')\n",
        "plt.ylabel('Correlation with the target variable')\n",
        "plt.xticks(index,labels)\n",
        "plt.show()"
      ],
      "execution_count": 94,
      "outputs": [
        {
          "output_type": "display_data",
          "data": {
            "image/png": "[encoded data removed]",
            "text/plain": [
              "<Figure size 1080x360 with 1 Axes>"
            ]
          },
          "metadata": {
            "tags": [],
            "needs_background": "light"
          }
        }
      ]
    },
    {
      "cell_type": "code",
      "metadata": {
        "id": "LwC_Dd6MEsKg",
        "colab_type": "code",
        "colab": {}
      },
      "source": [
        "X = df[\"LSTAT\"].values\n",
        "Y = df['target'].values\n"
      ],
      "execution_count": 0,
      "outputs": []
    },
    {
      "cell_type": "code",
      "metadata": {
        "id": "QEeR12RLTKuJ",
        "colab_type": "code",
        "outputId": "03c252f2-aaab-4ec0-8044-023d968d5a71",
        "colab": {
          "base_uri": "https://localhost:8080/",
          "height": 35
        }
      },
      "source": [
        "print(Y[:5])"
      ],
      "execution_count": 96,
      "outputs": [
        {
          "output_type": "stream",
          "text": [
            "[24.  21.6 34.7 33.4 36.2]\n"
          ],
          "name": "stdout"
        }
      ]
    },
    {
      "cell_type": "code",
      "metadata": {
        "id": "IAINhKAzTKnJ",
        "colab_type": "code",
        "colab": {}
      },
      "source": [
        "\n",
        "x_scaler  = MinMaxScaler()\n",
        "X = x_scaler.fit_transform(X.reshape(-1,1))"
      ],
      "execution_count": 0,
      "outputs": []
    },
    {
      "cell_type": "code",
      "metadata": {
        "id": "f9qjGRx2TKgG",
        "colab_type": "code",
        "colab": {}
      },
      "source": [
        "y_scaler = MinMaxScaler()\n",
        "Y = y_scaler.fit_transform(Y.reshape(-1,1))"
      ],
      "execution_count": 0,
      "outputs": []
    },
    {
      "cell_type": "code",
      "metadata": {
        "id": "sUb87t_cTKZg",
        "colab_type": "code",
        "outputId": "f0a8969d-3934-4b2d-c41f-030ea9f6e903",
        "colab": {
          "base_uri": "https://localhost:8080/",
          "height": 105
        }
      },
      "source": [
        "print(Y[:5])"
      ],
      "execution_count": 99,
      "outputs": [
        {
          "output_type": "stream",
          "text": [
            "[[0.42222222]\n",
            " [0.36888889]\n",
            " [0.66      ]\n",
            " [0.63111111]\n",
            " [0.69333333]]\n"
          ],
          "name": "stdout"
        }
      ]
    },
    {
      "cell_type": "code",
      "metadata": {
        "id": "2GhHhJs08_Um",
        "colab_type": "code",
        "colab": {}
      },
      "source": [
        "def error(m , x , c , t):\n",
        "  N = x.size\n",
        "  e = sum(((m * x + c) - t) ** 2)\n",
        "  return e* 1/(2 * N)"
      ],
      "execution_count": 0,
      "outputs": []
    },
    {
      "cell_type": "code",
      "metadata": {
        "id": "aV3RSS9NTKSZ",
        "colab_type": "code",
        "colab": {}
      },
      "source": [
        "\n",
        "x_train, x_test,y_train,y_test = train_test_split(X,Y,test_size=0.2)\n"
      ],
      "execution_count": 0,
      "outputs": []
    },
    {
      "cell_type": "code",
      "metadata": {
        "id": "0FoOAkXQTKKw",
        "colab_type": "code",
        "colab": {}
      },
      "source": [
        "def error(m,x,c,t):\n",
        "  N = x.size\n",
        "  e = sum(((m * x + c) - t) ** 2)\n",
        "  return e* 1/(2 * N)"
      ],
      "execution_count": 0,
      "outputs": []
    },
    {
      "cell_type": "code",
      "metadata": {
        "id": "iDncYc5YTKDC",
        "colab_type": "code",
        "colab": {}
      },
      "source": [
        "def update(m , x , c , t , learning_rate):\n",
        "  grad_m = sum(2 * (( m * x + c )- t)*x)\n",
        "  grad_c = sum(2 * (( m * x + c) - t))\n",
        "  m = m - grad_m * learning_rate\n",
        "  c = c - grad_c * learning_rate\n",
        "  return m ,c"
      ],
      "execution_count": 0,
      "outputs": []
    },
    {
      "cell_type": "code",
      "metadata": {
        "id": "-QbG5osyTJ8c",
        "colab_type": "code",
        "colab": {}
      },
      "source": [
        "def gradient_descent(init_m,init_c,x,t,learing_rate,iterations,error_threshold):\n",
        "  m = init_m\n",
        "  c = init_c\n",
        "  error_values = list()\n",
        "  mc_values = list()\n",
        "  for i in range(iterations):\n",
        "    e = error(m,x,c,t)\n",
        "    if e < error_threshold:\n",
        "      print('Error less than the threshold , stopping gradint descent ')\n",
        "      break\n",
        "    error_values.append(e)\n",
        "    m , c=update(m,x,c,t,learning_rate)\n",
        "    mc_values.append((m,c))\n",
        "  return m , c, error_values, mc_values"
      ],
      "execution_count": 0,
      "outputs": []
    },
    {
      "cell_type": "code",
      "metadata": {
        "id": "LGhzxqMrTJxi",
        "colab_type": "code",
        "colab": {
          "base_uri": "https://localhost:8080/",
          "height": 53
        },
        "outputId": "d7e7066d-6691-4e12-a82e-518ff337849c"
      },
      "source": [
        "%%time\n",
        "init_m = 0.9\n",
        "init_c = 0\n",
        "learning_rate = 0.001\n",
        "iterations = 250\n",
        "error_threshold = 0.001"
      ],
      "execution_count": 105,
      "outputs": [
        {
          "output_type": "stream",
          "text": [
            "CPU times: user 4 µs, sys: 0 ns, total: 4 µs\n",
            "Wall time: 6.44 µs\n"
          ],
          "name": "stdout"
        }
      ]
    },
    {
      "cell_type": "code",
      "metadata": {
        "id": "G0uGpUhwTJoH",
        "colab_type": "code",
        "colab": {}
      },
      "source": [
        "m ,c ,error_values,mc_values = gradient_descent(init_m, init_c, x_train, y_train, learning_rate, iterations,error_threshold)"
      ],
      "execution_count": 0,
      "outputs": []
    },
    {
      "cell_type": "code",
      "metadata": {
        "id": "9-St-TKE_63B",
        "colab_type": "code",
        "colab": {
          "base_uri": "https://localhost:8080/",
          "height": 283
        },
        "outputId": "e7bb3c59-962c-4cb8-e640-edb54738ec59"
      },
      "source": [
        "plt.scatter(x_train , y_train , color='b')\n",
        "plt.plot(x_train , (m * x_train + c) , color= 'r')"
      ],
      "execution_count": 107,
      "outputs": [
        {
          "output_type": "execute_result",
          "data": {
            "text/plain": [
              "[<matplotlib.lines.Line2D at 0x7fe17a999b38>]"
            ]
          },
          "metadata": {
            "tags": []
          },
          "execution_count": 107
        },
        {
          "output_type": "display_data",
          "data": {
            "image/png": "[encoded data removed]",
            "text/plain": [
              "<Figure size 432x288 with 1 Axes>"
            ]
          },
          "metadata": {
            "tags": [],
            "needs_background": "light"
          }
        }
      ]
    },
    {
      "cell_type": "code",
      "metadata": {
        "id": "n518-4II1Pip",
        "colab_type": "code",
        "colab": {
          "base_uri": "https://localhost:8080/",
          "height": 297
        },
        "outputId": "56d19a61-18b5-4bb6-f2c0-97ea659dc138"
      },
      "source": [
        "plt.plot(np.arange(len(error_values)),error_values)\n",
        "plt.ylabel('Error')\n",
        "plt.xlabel('Iterations')\n"
      ],
      "execution_count": 108,
      "outputs": [
        {
          "output_type": "execute_result",
          "data": {
            "text/plain": [
              "Text(0.5, 0, 'Iterations')"
            ]
          },
          "metadata": {
            "tags": []
          },
          "execution_count": 108
        },
        {
          "output_type": "display_data",
          "data": {
            "image/png": "[encoded data removed]",
            "text/plain": [
              "<Figure size 432x288 with 1 Axes>"
            ]
          },
          "metadata": {
            "tags": [],
            "needs_background": "light"
          }
        }
      ]
    },
    {
      "cell_type": "code",
      "metadata": {
        "id": "54M-_pPy1Pce",
        "colab_type": "code",
        "colab": {}
      },
      "source": [
        "mc_values_anim = mc_values[0:250:5] "
      ],
      "execution_count": 0,
      "outputs": []
    },
    {
      "cell_type": "code",
      "metadata": {
        "id": "JcV40ywK1PWk",
        "colab_type": "code",
        "colab": {
          "base_uri": "https://localhost:8080/",
          "height": 561
        },
        "outputId": "234e887a-48c5-493e-a7af-1f07e3e0922a"
      },
      "source": [
        "fig, ax = plt.subplots()\n",
        "ln, = plt.plot([], [], 'ro-', animated=True)\n",
        "\n",
        "def init():\n",
        "  plt.scatter(x_test, y_test, color='g')\n",
        "  ax.set_xlim(0, 1.0)\n",
        "  ax.set_ylim(0, 1.0)\n",
        "  return ln,\n",
        "\n",
        "def update_frame(frame):\n",
        "  m, c = mc_values_anim[frame]\n",
        "  x1, y1 = -0.5, m * -.5 + c\n",
        "  x2, y2 = 1.5, m * 1.5 + c\n",
        "  ln.set_data([x1, x2], [y1, y2])\n",
        "  return ln,\n",
        "\n",
        "anim = FuncAnimation(fig, update_frame, frames=range(len(mc_values_anim)),\n",
        "                     init_func = init, blit=True)\n",
        "HTML(anim.to_html5_video())"
      ],
      "execution_count": 110,
      "outputs": [
        {
          "output_type": "execute_result",
          "data": {
            "text/html": [
              "<video width=\"432\" height=\"288\" controls autoplay loop>\n",
              "  <source type=\"video/mp4\" src=\"data:video/mp4;base64,AAAAHGZ0eXBNNFYgAAACAGlzb21pc28yYXZjMQAAAAhmcmVlAACc/21kYXQAAAKtBgX//6ncRem9\n",
              "5tlIt5Ys2CDZI+7veDI2NCAtIGNvcmUgMTUyIHIyODU0IGU5YTU5MDMgLSBILjI2NC9NUEVHLTQg\n",
              "QVZDIGNvZGVjIC0gQ29weWxlZnQgMjAwMy0yMDE3IC0gaHR0cDovL3d3dy52aWRlb2xhbi5vcmcv\n",
              "eDI2NC5odG1sIC0gb3B0aW9uczogY2FiYWM9MSByZWY9MyBkZWJsb2NrPTE6MDowIGFuYWx5c2U9\n",
              "MHgzOjB4MTEzIG1lPWhleCBzdWJtZT03IHBzeT0xIHBzeV9yZD0xLjAwOjAuMDAgbWl4ZWRfcmVm\n",
              "PTEgbWVfcmFuZ2U9MTYgY2hyb21hX21lPTEgdHJlbGxpcz0xIDh4OGRjdD0xIGNxbT0wIGRlYWR6\n",
              "b25lPTIxLDExIGZhc3RfcHNraXA9MSBjaHJvbWFfcXBfb2Zmc2V0PS0yIHRocmVhZHM9MyBsb29r\n",
              "YWhlYWRfdGhyZWFkcz0xIHNsaWNlZF90aHJlYWRzPTAgbnI9MCBkZWNpbWF0ZT0xIGludGVybGFj\n",
              "ZWQ9MCBibHVyYXlfY29tcGF0PTAgY29uc3RyYWluZWRfaW50cmE9MCBiZnJhbWVzPTMgYl9weXJh\n",
              "bWlkPTIgYl9hZGFwdD0xIGJfYmlhcz0wIGRpcmVjdD0xIHdlaWdodGI9MSBvcGVuX2dvcD0wIHdl\n",
              "aWdodHA9MiBrZXlpbnQ9MjUwIGtleWludF9taW49NSBzY2VuZWN1dD00MCBpbnRyYV9yZWZyZXNo\n",
              "PTAgcmNfbG9va2FoZWFkPTQwIHJjPWNyZiBtYnRyZWU9MSBjcmY9MjMuMCBxY29tcD0wLjYwIHFw\n",
              "bWluPTAgcXBtYXg9NjkgcXBzdGVwPTQgaXBfcmF0aW89MS40MCBhcT0xOjEuMDAAgAAAKgJliIQA\n",
              "Ev/+963fgU3AQO1rulc4tMurlDQ9UfaUpni2SAAAAwADjiHS/hKNriBh5iDxAnfDgalWjtztNFrF\n",
              "NOAvf/O7Dj4mz6QwGYFocS77AleMSKayr5wABRlpJc5s//l2XLbBPPPk9jTlrV+qtKVQndd5zDiD\n",
              "dshzglnMCa0KVxHC0rq0ONwjOAh1nCSWT27bTwBXYb5oBNNfNHAHgylCN6QcCj+sJLHosqK3SfdB\n",
              "DVPtwgFqR4gLgWvPs4YGLQsdtu2QhNF258RyI0p3WE7XebRnvnrwfFJLAe+MWmziJZ0jCGINpbjB\n",
              "Edt1rytge5LXStEBCtE92GJvjc9+qnnnI6In2hTYoacDf8YLcsYKTbRbyPzrBPslu3nKk0SejKqR\n",
              "5+n1SIvKO8kQWOg2ulWrK9m/PPK9Sz04cCyaSaFX8U8NaITw30zyNO0RQ82YG49WgshwC5aceeWU\n",
              "e4mT6A5j5aj8350af0d1RqESU/PJAuPNAINqEDEb3Khn93+SjbNLKhWgH9zICFXTWH8JFUtRWBIB\n",
              "fzECGQ7cTkWDpn1CAXMMYtadCjR5OGUUy5VMvk67A+//vhdrVGpLvSHxxbzEqSwKuouPfId0OvNo\n",
              "lcfsF0Y+GAHkgJxCLUNUMuk+gFt623Z6GQkMjFqLD5cfhQ1v4lFgXPlu04CdiCLylR7DT0zcml8N\n",
              "AnWKmFaxm+ZXwxvYVnlXLFPNGahvnivAZ4PvPIcM6c+gu9r8z+6MDsJtfgi7+QKoD2sfZW8rQqCo\n",
              "SykuQPRr14xhX0GiP2rx/J19dksoEV4irN5/ITs9teWALkS1Pr3bqmd/y0fZnkda++m6TIoKmCJa\n",
              "4L+OjV4PyaUeNtyqAXVQTVfygdbuLabcZK0QN5HJnjnEzbDAzfdkbOKDWr/2Nr3ccqsVS7Z2w6uA\n",
              "I0owBAL0hZuwR8s6nkMPhDqlfvpjneELgtA06NlkSfWXglU1QA6cf3Ep0Nh1YzR4f0OUEiXZ5AWR\n",
              "BHd2NQhMnQFyd2YvR6CHnHg4pqIJgFuC6KUZVkkx9YypH9g9vvrqWUbgP44RCX3hYCzmSfgvAjlg\n",
              "JigIujJWZRNi4o4CjDU/T+L6A41XIz/tCDK3eFl9HMyDDzYCfhuJjzAqJ/AYl670r6Lu6qgTVy7b\n",
              "mPfBUficBtQ+zjqkhiVNFkK5MCF7oKZDJWh0BO6UJ0mz2vJC24rgeb1tNlEpAO9Wpw776s6PIM0l\n",
              "K/BAx+8WN1FLLEfROWlUPtdqmhCFSwP3uKhVBriX9U0igmiEU76fMh5Rcz58CAhjX9n59+F8/Ztm\n",
              "B4efI7j/RLOO1TdiQWVxS+G9zpf3UgG1ymKyDtdmZaTivQOE+1PuBIYdSmkFi/inu77pi32kej95\n",
              "kXBf9FcCW4IR2P0Q675shCevht/x9Gw/zZ+xlcg9Q5CEFu3FdUhq22btSa1XkW14300kMhwsVGLE\n",
              "QAljCdRUbJe4JTenN9kdqYRJ+HIH4sSgnJhmRYG/hz2ZZfbyKzfOH4UBDibi+2STi+OYtt2TmR4z\n",
              "0KhBh0rVhc7wlBtCBlNRUjCQgzLNSgiczhXDdtuMp/cxEvB3Ex1UJISscfohfmRIACmOvNwFEWpl\n",
              "lyZMgT0FOEBxdw1G3/NElMO1mXDXVvfdeOGy65pyrK6tv9a9hUd0WruvHCvvoFo9Mg7W0KLLlSCA\n",
              "7UC33rw8tmdVLtMWfJcPARyI8e8aFubQtiH+8mK84dTErxHdLSCy6naHJSDuVNmgsMreWopGlfO9\n",
              "lt0rhmW5qI49MdKjH++TWifVJMNYyzMk6X8MdGJRa6GoCQ/5oMUBxWxkx+CJ8rAStcFxjuW9UpIf\n",
              "Jj7f97vaIA1jEUnEcWYIeweI/xMrYHoX+KkJ5QFwU8eN5V1KAcJVQTaE3vIVoQF6mgaI2Lw6z0pI\n",
              "wmfCxDYr57LO4TDQOFUzh0jp7xkFSsucCHsBC6396oP82jrKwcHnqS/Z1UHw8gKyYaHUq06HUV4K\n",
              "iUrWM/ImD5ahe2/sP6+6axvhCOzT5smEClfO/YLMpDjgE7AeEwWpWgRfztbb0EcanDvCrIF2rwMf\n",
              "jwoLtUOAOi/jd1ZW60vJzRPv7dxQeqkp1FEwtvmdIGKPKa58zTokKcMvpn5hAzM0+hdzuOXbKLBM\n",
              "qtEHETEPJtgcZBmBVQJfn5wynOmvvnmWTDx+47IjMJkrelPKKXDs4yOxqVlSYrY80KbHS/rjDpsi\n",
              "PtMoAxC3nSVzdJaXwaPUtIec3IArt2w1P/KX9OZKAPeNJvbLVF8tjp9s5uc17bzHk4zO/DuViipw\n",
              "zpzJNteQin2+1/NAdhhaH4AuqYmUW7/Ap3FJBuwKiXgfOLVGQIxH0Tz9cv90EaMr9NahvSe790wK\n",
              "zHd7+P4oBipo2FDddHT0MZq5Velv8RAjpbMlDVoO4bsL4AF6AqJVHTkRYVbombBtsdKBUU19CzJS\n",
              "Kq4HXaS3wDo8x3qxoqn1hjZD/DeLZ23m83BiKwY4oXG6GRl52b/3dFF92j2q2Qkklq1g4K9qBCb0\n",
              "p2MP5zBUEkWl2ZmkQAiJfwB4px0mn+U1sCIPKkWFOcWeFXMx5jUQAE5vWbUOqkKNAC2RLt+WIcL1\n",
              "Lcn3sMBm/qqukSpi+LtI/bjQLEhW3DDfqkJpqvPgEhSaCFCqbYMMu6L6T5D7ZztFmXJ35EpAmojX\n",
              "erV5dcH1X0bJz8tft1WfZsRElKmlL8o7QLSxyHn2E1Zp5xplIa4E/XM6Yh2Ok541PPSg4tftfSrc\n",
              "1/b/FfmhVD4wLkCc6fheB3Mg8xvZlxC0EDphtddqDS62zhUfVngYw76+XNI57JzadkV6WXAAyprY\n",
              "E0k7XIsOPYivyHr+jya7QB9qttIjtUcGs34gjrFwlgE2ah8UGWy+0ImLbfkHtRA+BzBD/CRJcyXj\n",
              "Y+g7k2toKNRC7u2UB6F4/MHCTuH7g5BauOBTMPBM+oZkAuR9UyRR8GNVwuvnMBxXT2XAqJpykVMy\n",
              "5XtzAJt4p0fHzhBT9cKgBIRdwJOos8KXylFDvYUNmmTX0xPn+7x+97JFbtZrzVjGrwXpGSR0rGKk\n",
              "puQ1NtktL1WLshv7t+XmheKjxfv+OHTSpy/RaJEXDp0wvxwY4ovoOBFglBiBhrPrMjl3i4jgtB8P\n",
              "2NhkpWk5yXOC9AnOeQII1umkBXYbnmdNzuxHZ+XEpIpAOSTZ9YQoHQMEwVmaruDykv341MbtqNOJ\n",
              "R9/7tXus5EE8kt2kq+w03KgdCfYNP4wVkz6T1WX6ubrZ0n4/Ndm8/rVWr+2i48uvkcYU4VQRDhrP\n",
              "LEUI+Roznbxmkvtwmk3IRBDurV9OgbagvpgJiEV6FWmONToA8v033rw8HvfHen94CBG4t9v9EsE0\n",
              "PryFDgSwGQzQkQ4nSkGrnaHQcmPq4rNZfwq55G5pSsazVUpm+rV/UEDeXQMdc6xJuQ82fasMeh+b\n",
              "CQMtKxoZeQW9bdaXnI6487ZfliL2JDzwnT/dWMvY+OaO/x5grU5u0J0i5uiYvTZhEKYWKroYlho5\n",
              "7lQJ6B8UFdb6ri/PaOYrNh3CHkQqnuA4L/uQoxSe5/FqSE5vIID9GDxRnRaaLTbgIaDPc8CeJHBH\n",
              "AcvthKAvB0B6CqnmV0tD6WqoE/EbMwKvCpWwIWjjYXjHkiAG1YvmJkhBLUmINqKpsIuHmSI7yDE8\n",
              "HabOm1wQrkO4Px/c8UnmkQgXZq1NiUexuNa/jHi3Nt/CYIUczFyfmYcXtGe6gg0nYhlol3LxRIV8\n",
              "/17oRyC7d8ALiWE0CePDvNjnJYccgRqHSTcsrk4/ilLFLBdGaRR0fT6FZ0lxbDx8JuB/TB/xfvek\n",
              "PAAGaXjM8iwHfRtLBdW3pp8pxZaRpPqPTM59H26Xb75nZKMPq8186e6nFcmvtg3odLpx8eR29Mpv\n",
              "RLtPLs/XKtxtUWM9IRwXw7cbrnbyZTsMUBgzD4ZOdUP8hSjhqSppi3f0EL3cPAZEEIr6l1est2E4\n",
              "j2r2qoATeQF6I/BmPm5oePIfhEX5oKuCjttwtxLLbFGVxUl227/x1ucxnlQVFNqPAS9RXcWlOTU2\n",
              "xRQrOv2aM2qtQeVNGgzOCvuVWXO/q9zuY2z2ugqJ5vCR5crezXsgN46702Pch2PbBIZUhhihIj/T\n",
              "wgtol/V2nXRP+CcFXaOuSXzOlzzubJWGeKKULP03xdoZd3FpQ7mapLOcD57sMtLK3Ip95SZ/sGhZ\n",
              "fmugNSoecaQVnH9dS5yJcrkq7bIS1jbQK0T+/9geEyKg9zZoRc2B3N2L5jEpsm6RGx1hYKAIUp/r\n",
              "WhvAksBcTSGbzOUMEgsBqy0qqBVg2JwvzogTEgy398e/D7AooUt3wUCCmqtltdJWKhYnU3jNCxVv\n",
              "2Tn4loY2OClvIvKlc0CtaxgmRKXJsWmHyAUz6YxzLGR0JppyAMfKaUcb0H+3m0QSTUWBUN/Pgak5\n",
              "YFZ++7I3KqQveLHiGdi2UkRZoKk5afVsLIicIuOplBIQwczU7ivqll256GjaVxC03BtF23eLRSJ6\n",
              "iqvkDMKXI8Ct2ZEyEV4167MAUEKG96NiGIRvsX3VmbwVGNazGnFuK6YqutFT5wJdG/o6aA6QeMN3\n",
              "wg6vfS2HGie2TLVJWc6qVUs/CNj0DlWIssXEFZDk/Aalc6SToKjKzXCd3XV/wkCCMRFWPJE1inFR\n",
              "l/imyFv/mXpvp1o0ZIL9yHulGpJ5luOFf3B/JvNbtSm8xJqVgR1t73a/GqFuR3EELy51v0dO7dWp\n",
              "3U7DP8lj3yFv3hEgr0CAoXR0MhPfle2tkUzC/SKhrTABH0cSPQSmZ0kt5N3wb74xVbUq8FVQn68x\n",
              "FON+riFioRvR2Fb8DtfuF3OOET0E1bIJ1hDWA2Y5781R16k1r0R/+9+55bMEMGFzlC1XU7kIyzOx\n",
              "bxHU7MBH6nfgALxL72y1ViYKtWjV5PMu2dt3vUK73vFHGB6X7lvvm8Q1lbNmq/xwLp6+nxDh+rVu\n",
              "rLwCzoFXBT53GM3csc+7Fob1VUaA86HI1U9SXD51TjYncto6Nl5j6v71YpyAAU9dN0Auof769EMZ\n",
              "J833Hnl5TStDu/7FsWOT4RZ8NzVI24TuVoZBNFRih/1BQLLOZP32A7LfnaTJ7rduUsXv0dsGty55\n",
              "kWcUCcnEulfm43tqRH24HQ97G6DCdSvxUw1UWemExW185fewRDIuM97vfzXib0ObxSvp/5Kbe3Kk\n",
              "QIqpNIAHhc8ZVtk1E04lzaWuQzsCq//ux0XN0s68CzI92IkP6y82tIFZ4I/ZdE3x7EgGen5Q6m1C\n",
              "QfPhh1YpEFrSnH4AYb21UVtXoCW1BbF+mHaeF6k4oRrPFVnjaLzunyduKouYfoOB6Q9Cyl5nCrJf\n",
              "2m2A4hH7b3CyaLWqTZ+RhFixgf2pNr9lCiSjwTFnlIJlQUS6g8UehuQec1DIIBgn9wIvkwOJ84Kz\n",
              "gFpYLN4ZaD8f15MF78mzlP0alFTt6vjTqWp7QFwLbRGwY2L4dchcIbR6mTEL8BotAdZAf724Y0Rb\n",
              "/UX5TJUgA0rRmAVpvWjZ7D1QgUyrg9GgyHOGrLegEOuSZkLTPRD202TXVP23gQ19PtSgPv+xjDua\n",
              "6aGYYKNlricFrNV7T9RQOyTqVyNHYNlgzyrzWnEbUOBxKNqSzqRGNgM+rJGDJoF0Z02AZAL3Wdhp\n",
              "C/IxxZtsokhE8/0haFHd7pmhJafu498oJAx/UI92H3WG82N/M0Sm3h4J+B2Szx+K/ewf0hZUfHV0\n",
              "H86JefaLqJN2A5uMq5+FOWfP+NrdLH26v2RhDRtx5+4vh8KpLG189wi99MP77a3PSnj7lPSjzQeE\n",
              "lyPyZNObBswzJoS7ke5XIcNHNeROAIvpUaw7NwffKgbL73H42zYYL78NQVTP4MYLLxIPpY2byUls\n",
              "XIx0yZBD/xjYWQ+zyl5w5Y6P3WsCYOdF/P+aMIIwTS0gK8TFF3bE2BLMG/LT888lI7Vn401Yjb8m\n",
              "GL9daydSCI5HshoF6jWKyzuPEYzY+oZrncoSNo85Unu6Cnq9UsfFQ/SvktfFl6Ox/AiqW+NqRRrq\n",
              "kY8IasOCFtYcw9IdS67K6tEeeiewO5hs7zrafidQEeFQ5OwhLF/Fm6Go3Rmm51pLXbzVbokC4RxL\n",
              "RZOvT5FkAOMwKNarOEqzTitNo15TXGxW/xpf0vdvpx5szBxzlUYbrJ5Bpda9fepK9dRrFhnoZV7v\n",
              "E+BiA24s4MyPini3ruqnMKlNxvC4iP9TxqRs3rTet9SU+Wi4naBmvgYl621cU1lJC5t1lr7h9q97\n",
              "m7RWVSJ0FUNY4h90rWHAUpn2amGA6UzkNmrnEeD/WIhaZq3dI7finEdySQh1p+z7NtaAE+tapuWM\n",
              "m9eiiNbXcN+3fDaBujChCfbkatYobA8IFT/c3FQzT4dTkT9GJ6E+obyqNDdwJn5cTiqi9qTBOkAK\n",
              "zUNd2skBLsrioa8ePmBrm954O6SzoRbJsG9KkJ64tZb7rUVReTVmCYCCyZRrGI8bXMcQxvkF5WT7\n",
              "okhqiSgS96FSVWNZAz1Zt6gvQRgttzRufc/cxL9dy+jfWgCrz+xfRyNxTA7n+lJXItCYVgPXoS3K\n",
              "PJMHv4XIp7IG5W4at2bfC85/FxKnLnhucxUFI8SLPJOgxq/VBIMY5qVEYVw9X3x2BlIDlJXxWVeK\n",
              "PGwCkm6UzyY/eFBz2zxjEcgqGRTK6g7/Dr4IVHAYLNUHejSwBF6Zz9XyoT5mUVqZKnTWT5OscWDq\n",
              "HEXN6yfQkWJwlNdeC57rZ5oNvzouqrco+eQpLFSzCIdaHKKuRDu+2tXZBmMBR1ZYcRnIni4TqMkV\n",
              "6Utm9xWbl1OrZD2lEpS0nTpXydziMSJjj5cYZLgyksLTnkwJNM2iM88DAG2gBN/ZVUc+dr+I/wzL\n",
              "hGei82q07fy83pnUYzmuLJiiLr9ow3ZSzMZAK0RsCEMqbWAqwA73WrdQOoCgLbndQr+V0Nvl8KMt\n",
              "wATEVvaBo9mrqwMUToCZtv7CYk5UOLk1UZnNkPZtKJ9hBBk94JeAlBYQZ1Cb+jIGpTH74CYFRyNn\n",
              "B6DMPES1bQovQ+2qJP/u74qzb/7UTYafvRPUaGwE5acCmc+2tDvx0W0A/nylnNWR34kNYvBMXz+A\n",
              "gi8QdM4cCboNvHXXxEUQogJ6ARr1mVYOdBwgmDkqglFURbsIkbw1Oiki6R8JcGv//QWfAFzffv1g\n",
              "11kaR55oXTl5fTjJSBtsbpdKM+y2GvEr9Nkc7N1h0bXKf81Txl88tdwDW2ffRaI+XHHlYkTFT8o8\n",
              "vanjV93ni5yNb7xrf0W+bZchEZO2nbKvvkCgO8SAyubX/rPG9xAj66GrlL9g5kjvuC6f29MVlWWQ\n",
              "OPBJSjvah6waAVCxfJYRMNmqRDOckKtwaBhVo8lGjbeoQnoUn2uv4qJCVcLgXIZw4nt15qLIIWNR\n",
              "2V+YIo2lERTpGvqTuLn8541684ozgWRFNLTNITp+l/9SbgdpwHzDwO2LLOhFiYd2NOklQX7dNhck\n",
              "thxphUd5V7eXZ0MtDHoa/0a0NqWsKFVbxxSnP+kAEfx6Ou/GzSUo8y+61+OyHdR5RrhM2lxboUCg\n",
              "J3Krxmk/ixPt4zzQZ+doHwSDNd2v5GfWc2y9LMBxESW+9ZVY5UeAOQK8E275vLAwzSXgQfk8Fvfe\n",
              "eaDivbZbIlPa5hwNrnZPc9/3yBlR5E8/VLOGaXOsNtCVTEdl1K74aZIDmtYkRsNDtXVdHXjO+3oA\n",
              "fCgubMuOD0WZZK2bicKGa+pIhjoAjvpoadmeFlJJ2jwT4TarJoeniew/Untc+o6MJLK+WphugErN\n",
              "/U7f0xkpm0e5knmFGjxE+L0Yvf65Mw57YL33qbseblHvyfIPCl7ZgfISUKmESFwAdIIArp3qYc3y\n",
              "PNAnIm/2N+Z1SmNP944h8JP9pTui/LD4Ny+cTsMQ00XCGA8BzBKHpRAJgPuFwInWi9wpJ8jJDekC\n",
              "1Mu1IaN5Uud4Fy2v4ZwvCI7A2NSMXHqE94Y7s81HL0W0+mItkvsOE/cu39GUJCqwOgHxZ//GuvJg\n",
              "/R7dRt1Pjy7AcEjByu0BcOrVhkZFMMMqthkXQigqHDo0UmKngYJcIBizSF2xXWKCAec6PQJ/JxyB\n",
              "+ocLE7M4RMURWesvFoT7tI80WM8r0tRI/4boy7BbFBlOQCUY+3H7aOrarJSbQlq83zbQt1apF8Jz\n",
              "ezNqyUGiM6hrjfXwbIoSLEj/Ns40lqHorq41LUZ6LC6+lAPor6LUMrQmzZdOHakJ14LSq2DoaLiI\n",
              "DQ+/legSDMjPFl3wPB9WmwG5vN9w5U9ycVPDmJwZcSvs68i6s8fOPZo4ge/7iQR7nKcY+Zadylge\n",
              "5cCGHdIwWRSpyXsSzdm3VenBW5neT5VgmoSjZyPX5PtpUXZaZqxV4f4B+zO6Tr1k9ZGT4cpcJJ1I\n",
              "oOHOyAyZcS3kil3wFBR3eW5zpoa2zb0ytFQdF27883hFwI6QOyB+jmusDnEgRggcBkv0/OQ3GaZL\n",
              "9NHslTlGEi0tytJtMMRiZwbuJ6/DQFzqhiuo3AhmqIvtMsdYYwFynzJ61nou0GKTBEBEixiouyMq\n",
              "hFYhTNwrqWjhE8qwxHzQZJ338aL7ZB5wuP9zA94yn2tdTno+UDdYMWB5iH0vQ6xZiEGG/vaZjIR4\n",
              "9n72WHGMC6JzmgWIMFID0gDbzjMwSxNdQ2ThjfvlRc58op3Nzru0tMv6CRmfemhhAR7eAXH+dsut\n",
              "DJ0T1geeQzWzZhzLEgkIFTUcoTIMfgFIyAwz4aA2FON95j1bOGJ7mEbAR29zWnHf6Yz4hbRqGSls\n",
              "g2M7D/AJ5xos6jFemyzaWNP0Bm2lKPKpCN6OAN8sZwCxAD3sr0itqqqYkNR46MkjpRTSa25lkA8F\n",
              "3rWIgt0V4S94ZxSBbt1ukMqLnRsZJLqX9CF9eu0iNdYRFvG23+fw0xbh+GxpeBnQK52iLO1xmqml\n",
              "pk/5YlDsf4XETYMNeUnDWB+ttO9eZhRhtTG9twtMgbFTMnQMQHR7edbbWgDZ8tPkKrXDA+vIjS6O\n",
              "A0+KPeK8br4WQdhUik2Z12R3u9DzDoZTSkdZEfGvkqjsAuO5XHUvCDEzOGZxPJ8+tBDOAW3CamUz\n",
              "u+WBWyK+ZOx4elHI0/sdkkhX7ajpmjtRIzCC+Iox4ssqSM+4ginwqkfpZZVaH4ZR7L4JGKTvRM93\n",
              "mk8vuZvYfdPn/tThj7ZQY/h14aBPKMjn4Pe3c1MjbBm+XxwEh5JimUBDoNBFDDz8HnwYQZbIuA3n\n",
              "tvfhQOt6L346QhxhzL++Qy85X98YZL6Dh9xuNxXlF3q4vTUD1eZHYzMxma4F++GeH3jW/JXDljAn\n",
              "dD80Xni7rYE30m2JxjamWAsGDhiSFVQZsFAheisnKaC5EzAB0w1oCZ8SG8CSCb9qNm7oG++aVqdA\n",
              "CggXtu5zaEL9cBvGy6FBa3mQa3j6sdco3SqVCP29XIBg4IrCdbeGDe+ibDPEXmikb15jVPlBSFOA\n",
              "cc5KHsQZ21wTziMKiCjFEeYPpivR46RZH5VT/E+1vMep9UNpYE8F6CLkNbHk9/Er1i11/Ju9PDFw\n",
              "Wzguy5xNQh6kzYVIqBAYozyDaPA+9+XE5AdlbMX1er8IFxJvNQ5Lq+O/IHjWHRZgo/CvqbuC5USf\n",
              "+wtPWjvsiH8J+q/wj8fjdhGlbW4CukIv9cX22+ONQupZB04XUo6ZqHZ+WgL+xGXVk05L6z1pmeMP\n",
              "dH5Hk22fsXZdSJ9w+gVPL4pgSfKYUGTXwbS2HNbvvt7/mMhH2hUZP7HNa/3+fgaBpBkTXeFfcHsI\n",
              "m8KVxd1WlbRCA31IGxy7x4hcQ2deoDlw2BacMH6HJyWnn1uXwzMGmkc5j+3ekDx9iqLMmlk3bGiR\n",
              "M6ZnRMlAJbpCeBUC/KrMS8WG7Gad7Xka33x6tuINugDKpdOOcIfXH6YIn/sIIip6KSbfVnjc8wiT\n",
              "1bbCZoOt2AgQtQSQr1I5Wj5awkon3GlNm3QmkqdG1Pq/f54IkaRUcZCir53i3/+BWR9PCw6EItwa\n",
              "8mKVh16wW1UurZXhjlB2KD5jmvYTtZv2+hDmEvfVy2xYJLDCekErJ7gJWunf2D7P2vVFXm/e/9Hy\n",
              "pFB0ZUgiSb65KO0qZ2Sj+3++yYiClI5QphEOQg6p3eX/YoMK2Q91HAIxFdXR82aymc8OkJEFOY1F\n",
              "30Cj+VazOS6XRUaFvjay8z4dKp5ZYoRJp/jVUSpFrhRGFM/jDx0BnwMzwRY7zxuPaoFe+SR6Ox4X\n",
              "PScBPRq+RsB/n6zGN2n2xPcyfJYENFP5aVVhCCgkHCroQKPzvPKIAngK0w1Dkca2UGL4ZdmzMQUc\n",
              "pxoEL0Nh81BbsFF0IB2m60gU8idbkKb+D2VYJa97SVO4gPYYSJeIp8Z0EXUWm8/JLu5S6p6Mw7K9\n",
              "P9t3XZWjyPzqJaEtclgxgpaFtZy0B6Myc0rHTDdhzMyu6qnU/iIzO2z+R0jfQz2SZ1VwE0TXReEa\n",
              "zHkI0PxWHoIEw//p/blm4K0AIm9CVU7Hk+vJibioL8jfMchYGFk41lX0jxaI5dFoI45dOsl23rxX\n",
              "kZjM8aNCZUIfIZ1a80gd5VqV0ZXWwtbVjxjLWdrhiKAe0iPPUkH0AJv3ACp44TrxKn8dcURAIc9c\n",
              "THx8/u6FygFMG+yMU805IQa8kgHC11l0FuN3dBMR2U+UgmpjRX4cLWsUh60eB4mJpFRCg3SnNvo2\n",
              "yeALvZHwtKQweT4vOLOVtbRz93Gb1C+RAuuU9vXxvMR5QUlPLqVcpO/Wt6T5nj81GpQVpSUQ3Dew\n",
              "CKW04qCwXdZ4bTtolNNSXNrlvZXfvSs2FxrlvgxXersxpWFImA1xzLX32DW02Ggnupnjo3zjQ/ls\n",
              "9AwYVeABHmKqyzhhMHji/eKvdXy5PlBN++bCNzgbcgtC3CFX1pqJfzSwIbKdeSSPm/ylbYUUJMMi\n",
              "ztMMj1zEQUMBiSg5Vtdl+ZJ/Yv9S4yPtK+75wRxejxpIDSLm5qFldum2k4SxpGv/4N2hUdsO5U0O\n",
              "Ltr0D/WS1uOeCFRSPP8c/q81VChBpmDdywegX8noQz4DuRwRLhS8qTHxZ7fKw839WE1CRZe0Im5i\n",
              "tWmV2QhzvHcvPJI9vLYWIZn5H0I+2UeewOv+9rrpnfMF1v7t70qAzqqSAgoscIY88useHicsc8YN\n",
              "z/SzA55uDrz06DZfhCDLcEcIbooqsizJXXIwh+Xh0aS0Pj7UitwtbeeZdrunN58tuHDBFRDMFJmC\n",
              "eCm7vG3OdlitP/yJRet9ffY7PogT+5mYz//6itB4Lc+OEvT1X3fuhjdA8uKmDXvRjzyxNfx63ZGE\n",
              "jfxkNVhekVOK13gp6C6ZHDMYmE+yrTHdslGiLLrd1zONpkzOLQ/QKY+JmTo5PfPwpau1jxtd+k3j\n",
              "NG7CRTNV7enrKhj9ZBrokbniIoJldg22QJ5yoy14rvxmEd0BmK9VMkEt82qE4LBaB2u/7q5idtgw\n",
              "YgszfEz5yzmBkcGOxZyq//snHGZWBEo+VBrItW9+6/7rZv+q05IyCv7N7lpqXz8ESvjF++xyKsF5\n",
              "dL+4SYUa7LET+g7DNSGEADdEKNBjyL+4ySI5pAIlPlFO0I5Vw9cXuXTEI7+FY2/bvQq9Hth/Jybe\n",
              "N6mcChXZSVukwX/O9C5LZpTdcBlJOQwfEbezOgdhvMLJrg99NAreMd2pZIQKPcgW0PLhxDPXIOmw\n",
              "81itUoe/TbaBNXt0lOncmlpiccdwRcRVsEvmgbSS0cAWOj8jRejzdxHn3TQrnz06VprosqZQWFFA\n",
              "fx83ORBDMsQVPmP1q+MoNFOeQDu3IV7v4SSn5bnBswam4jQgf52CFJz+HeLxqDXKBro7/auDLTno\n",
              "q5cuKk/WWkvHdIWVgYtW0z+Tq4V+MniUzI9qYgNlepQAoNHdvOzjzDyE0t1/9KeCHHHQYM/oj8IF\n",
              "UI29N44JvHESGUZPaKjR9iFYtLx2lGpu1SFnRYkYFsYpI8xBQPI4vSMaL4gUcO5UIHIWxA6RL8M4\n",
              "D4VZFmhxGLs74sydeZfbXSxt3kLo+tfaBdejp6xZfmsDCja3kk830XuyCYIkcWMXrHa0foE/T+mp\n",
              "ex4lchDMM4gyfvuejVb2nYMnlBvvI/BwWYzbrg74bcu2RFs9hwcIiXZctt49VQftFJbEM/gfDoDo\n",
              "MQuhbmFzilZjAH6w1ZpebIHI6qZa3U77TayZB6gMyETLNQ9z6sgogurgqASN+FfYP6zBUlSuTb8u\n",
              "BrWVGod1TZJiQVN+6ObfdM4nkcZJ0Ppn7gzNXUg5D+YpPzBvdDlqnZRt+MPQUBkA1LUzUoyPmdNO\n",
              "hyrfqyKguutEW/Ia58tEEwuZBV0jQl314ezEshUQxfLjaGa4AyxfxuXZQTFCmK/Q1c6V59IrMSND\n",
              "H3e5J/juCyXgII+l17mG8PGAkm9SpMUBmGILPQiCTEa0/GbgJmGYZfql9DEsjN3XFpRAoskDyHN7\n",
              "bU7x06vBCl1v75tYLF8j/WxYiiMMjVWO3alCPnVmBpJFTtaWIqcQvZRzmv4vjXpYB0iJEkS2AKuB\n",
              "732xaPTFqp4voOhLB6x5mGB3ROL+XfiXHmDLimA8DeaHiS93NnoK+Htobc27JKbm6FZsD83Cw52k\n",
              "8pTAKAniz0QKAaUcloY0EL4wRKShunbO4XzFJDuxHtyf3sZCNSwqRspLCtEKf14XijfE6XsANAXN\n",
              "4dv7kxYq1hNu9mjCcDGB1PWJCk0sFmdS9FkqcCHsopQWL9/7zLE2cqaZ8Dw+Rwn///NuIOfqQdkY\n",
              "HW3CXd/IIlcJNOMBO2MzxtDZHu2jVO6CWT2kOrPqOixcFW87j12nPkniOiV/uoml0bleSTviqMTa\n",
              "bUIf9mldRWioQxoWLnH8OMO6KMP/9Z6zlRjhmyCQtgWp2LtwK+v2u7178SGAZSe2eJ9/E9n+SRDA\n",
              "jDzem4TVKb8OWVpux9E/S7+JurX08TF9vgD5boenuv6eNsLMoULj0tcJ5wzNGCNf5qFv8Wjs4r8A\n",
              "8XpqMD+jM0v7XgfKZC2fNSnmh++udya5qbvuZEATnKxKNzcReUVk5fdUDYhKe2fWMs43jftx4zqB\n",
              "pbIcPfT9yBxwNCVQsmOpL2/Jn1W47PiMFOLnDg+sme+FmTIJpcmEEQeMSQrMz207UVznRmfQYnSc\n",
              "hZGG1rWeyGMneh5R6b+Fy74pF157Dwetr0+jQn+IMPiJjUIvTdMyQpguJNhuFNISuXyIuaC16ftA\n",
              "O51Rl4m9zbymDzAX0fHK/eZQ/LtJSvhnI5Xk1hRPQB+b3JN5JV3qFZR4vPi0kiKd+RSbshDI1fhn\n",
              "nKcprf7WdS6Hs6YzYCmZOJJnllMoWKw3F41ucmtsf8f91B6YeLyMFSNbo1KV5Jixff02d425RwBL\n",
              "U1HgNWbxhGd0tZloOKYWJr8N9SQZkrDF8n/DHTjqVviZ2Nk28o1bo2GpEL4Yb1lMaS4xspUpYxhE\n",
              "be70z0w+9O97uz4UOzAXclXH2Iq70qYRerkeBu2IEXVN+MHhikXOplDG5LmvdWaOrWeKelQktev4\n",
              "YQNJ61yswvGPTnltRx1XnahZq5W/nmbn2djJoj+NFpbq106Y1SotYmcM4yXGcgl9Hq8a8tTAov4U\n",
              "LJ37/4l0q8/Ha7PVNuxyTaRPFMOYBZFwXsgo8AiJoj/y9RDpWqvDZPTB5UvFdxN81VSqr+lAc4td\n",
              "Lof3mGgrWb4IxBvg3ihQd93h/WwgBD0pC6UfGrTKWlL7P9Yt+tFBMrzW+vaWO2RVqfMqlQ4XbCbX\n",
              "EDvL2MkD5DFC+/iH0S1xjKODUKBTKgjmN8kECevUOsQ7h2kxqvxv/GHDAQhc9k+Y1x+O9j2k6G14\n",
              "FfY8dDz40HBiUO32Sp7hQwOmP2oXDINaZyz2sdleV9+lbpPKeF54+pRU1b03K+XKp/iR7mPkKoAr\n",
              "A/+mWVDSlN4u6V6C3OFqVW/RiMpqItWy+qgCEdhlTA8r703YeK9DWivagINmmS+H3+5g2bx+TZp3\n",
              "mkh4nfguW26rsbyVq/13x2ibPxP2niOz7lCL1FH6JE70X/vSVbq+v/b/mEpD6HtARrLgkBfooUo1\n",
              "FtWygHaGSF40eehV3P9ZfQZsJTVG2jyUC/UAnAVDmm3X72NSqmCwpUGtHQPwQxkWouqbb4BDyx3k\n",
              "tvACIE6xEBTyoET1GoH188LtZPYpfN97q+DK1GLTYgzQgtowT4MKqv4UaItVI6REa/huNZiS9i0V\n",
              "67AhYrj3Ige/uSuFZbiy2r9AKns1Qd9HGVNZy3hqXZCW/WzOCdgImPr3wujdoZxjWV6OAtpsDxYb\n",
              "RHeS+XTVhSTH6qSGawFAqW+jA0rq5p390uqF0x4fnxj7v3WRE/ARLhBHNeQPksEZSmDSqbTJQ4KW\n",
              "3nGaq7vFsmu/71/Uw9FqLCGwXDyD4DsDD6Y7JAAAAwADMwAACMpBmiJsQS/+tSqAIo0YZQBnt1ud\n",
              "j/Z6s/ZCL8n6osk3dbg+SyEc0NDIbRdbup/XILqfcKCxUUsC5rhCAf8v1inQlMuuFouM7AcJ3mjF\n",
              "3u/Ox66nFzWSaTNs/hl/+yDJ8A4y3rLkN51G/BcF73IFtQlBswAdI/TgUTTqNL0wnAb60iLauLtF\n",
              "XUBZe7M2XMKPxJVCHxxkKGgIcQswRYOTUy7g91f74+IHy7WrE7ABNJobBMDYLPNxTxsyoFYDesof\n",
              "4EgIVmakG1mpqMa1GvnWVgAEoGNbWR6RF+Cxz6K/PgMhJ8GmM+dBQcqGPeRewdw7tDkXI5MjfTkg\n",
              "kt1XAgePGmkfQOJCXhh+GaLd18AbnyFvVqKcZ7Li2C+Jp50Av0mil6RBOLr0A3Jl17xUj9i3pLC9\n",
              "o0HTwOoUO7evV1aNY5gzswq93DOPv6Zi+XLfVVG0PgPaKM+FREzNURjviRatnKSQTqaabSb5KIgY\n",
              "dGLUwvRVzXgsdP9hJQMOmBB5eYglcOumWofEscxQvbRU5Vc73RiU17iIF0ApY5T7+EwPyR2xP6K6\n",
              "BSENTGQXpI9lJrQAL/JxnHSNLLg4ebIp4wpSHGgdJVUFJr32Ny7Uy22Nn1N6DnN6g/rOHkjvNAHS\n",
              "WdUh6oePeOI4pn9bZs1tF1VuJmsZcPC239HA1c0AZc45XQNJEx4IuO8DlU4oJbqiswPHcOfYhC9r\n",
              "G5S+9fk5vSBe6hvc7NBvU6kCD2xtvS+TPXVJCzsDztYmPH49B1SXBxpxRQ2ArLibBxQS27k/5msx\n",
              "cg+hLuQv7BlUtu9Ho39AugCdDKpcjfKcMU77ARQG6uEPYC5sYTbUDM+HaznFwA9QzyclPr9LxPUd\n",
              "oXQt/dMnH2l4EvpXCRKjt5ySqEU8MMjo+oRxJGApgYqNhpsu9xcqj5JItEbaCGWgWRoFKAy1WmEd\n",
              "wS1CkKNKG5gp3lOG+Y6gWurpbKlEzcxpnnZRDi+tD9p1qnjevz1W0BfC3o3Px+mdEx3Sxj1MKrXc\n",
              "5+3azOg1UT7iLhMXH3755PRa8ek95gnIdsMbSjCzQyJPNGDM0KHM+cYJ0zjvuACmzxw9SjMMybVS\n",
              "VgUR663SoJ+Wv4dWnmIaAudt1eJxvnoRa/8F2rAObXgp+7gz4na5qi4gd54nLiZMQ2io0sevSOJ3\n",
              "5d/j/G50I7rpGvoCIVvciXT/GCPMyWVydtVl0p9Uw1VeGx2cjheAeiMM706gTpUPYF1z4hqnE9gA\n",
              "OKsGf7Ujs1+BbS95fCQ5uvb+MJEk4lf9JNS7nKyDOy248BTn7WRDBZfiqpH+2k5JrJiUWPx7LQmj\n",
              "u3zD99YAytKHwFgB4qXZLGNbToaGVloELYuX6oWVBysITh4nNmXRAcRfHlkm/NmDjg4UFHnixK1p\n",
              "3xhpm8d5VMyzZsVtk8Kz9IHXF2CmBolOSeOJhyglgnutCGVJrkABGf0/YerAfbFhRLt+tLa0PwAs\n",
              "eDaY1to+BQNyparfh+0vALb5E2SNiG/Q5D0RQFidhBEF3oFSSyxtmOljaNZJHufMyf7AHVuw/x1Q\n",
              "W5Wpbz5Ic98tB54zu+daYrvh6wG/NYAUfPtc5wjWP9XtFXUCh01qSqCtTnT49dEZW6/jSm+zwzU2\n",
              "LZ2k/bUsC92ptEr6RKfM6RRbJZZlu5rnjQlcAQdTOCB27BqOSWu2lcgSLoQXJJOPgqh+UN8chz7j\n",
              "cXE2szgSGPo+z3QxCNcq5Y6bfIC089lybUX3cZzsfbRAUICiR8CQVpWgTABtUnYZDvJBBsdVDn3/\n",
              "cCgsE/zwyfYpdklmP1bDwlAssQVLw9Ley6PcjR6IvNLNnj/TNUYogWvBvBcL5i8wEUAZvJo1n03/\n",
              "BIysWxWy5f0uxyLeJV6mdFMhsEwRxOT31p+hCO1Rfy6cScZPi+zREL7kkwRm92D7tyb/mi3be7+4\n",
              "j7CVTRkmlfAAvPVu8XTQ46pgF+B/713cmuwgsZYNFY7c38oR69wHNwk/aVIQFaqG7tUtq8MEZti5\n",
              "tb/iuOZxku7nN0/gDuEKSZ9ljGpVFn/u1+6ZW5hvTXF+IJSYLfLcXxN4vwlgh5zLCRYFGLbmo6Ol\n",
              "sX1jxrnTBASZNJ+Hl/2qIBO0brNGxLuB/7FweA7jIErs8e0JrJ8ZZpWqr8+A0oA3DwPXVTjlKuGh\n",
              "bI2eBxCZYyWppmrvnc08AE0jap1yamLsSfsKUZMuCbh5tPPPvCCGjqCXxvVRi/qVVP5kKJmiCjCJ\n",
              "Yf+WlW9IvFSrtHf5+I/N49jxTyg9v/6FhTpxEtExyRBpJMNjxkVH7Yp1Y3R5alncQUQzxFawlamc\n",
              "duAl0fidXHs7N3oa9gOAsGCbtiik/7/sifK8C9MEhvUNoV7DfuQP6NVj+r4kR2s0tgM9OhJwReZi\n",
              "UZZUSxVjwRUb4yhzGmBP3XYaqOQANDikKmGSp35X5H0kw7CxZFK1yiElJciUQAPRMRKWCsSTVgZT\n",
              "4CtLGpeBBA+8A8N9kZrh7Gz/Fw6HFqkBy/eLCiyTtTQLQd3ObeXxth/IPggviS8YpKo+9zfvOcsQ\n",
              "OnXXfeVhPQunN1SRQEfDa6BxAwpC3PEwCXRZbgPJvzIsmSSeWDxCRLAhgTc3uCTWg/bLk5BiDYup\n",
              "BcaQEM4FgmFu/8wQVzCMITAZFGUmnrippEExhJhtRGK3kKeDsAHmr5Kw4YyJ94DWlIjx8zSvj+Kc\n",
              "vLG97/NGvCyMqWq4VKMQXffmM+OsNKhpTw32vbh7Ti+0XDyiHDKzd4iFMjiba6Cccr/3pedhYQUC\n",
              "Ft8EQgoPWP35xCGmEA+r/waluLtKlKy24wSNUyq/A4a00EUzh2FSRlZndx896EDzisK79Ups9jmn\n",
              "2M1O/B7zBu5Afk+lywbY70VbkWUCaoXl0D2eDQqhVHFLO4Gchmh5Ka520cg16kdlHgD+gtfl4bnx\n",
              "JqJ2skzF8D68SNp1TH3QPCAJsetjs5IiG41m1m7cVIXNAVE0eP3gAD4yfgoA0rcYU7nhiitlSNU/\n",
              "G9xWN18ARsAAAATdAZ5BeQ//AC+E592/uQsePmR3l+VUs/wgpMkARKh5hb43d8sHybhuJJzYTWxw\n",
              "/rY3m6Ve277NGUOxSDGxNrCRJkm17phDlkQR6uKqNHSEiSlzt37aPp1q11dMft5+kcmJqZOI3Pji\n",
              "aPx06CsoheNlkLUpQVdyIME30Zf0zD1NiiIjOaB9t7MBmxOn33olXEd3zOsqetKpguxHv9Zubmq9\n",
              "C6jcKBLbeu/QcOrpbpJUeQQkoqW6Pq1Q+vY/IYofD5KxCWVovb4JIeZKWKLrzcjUAyuzooFVKsxt\n",
              "5N3IyDg0OiiFyH8IAOVp+LAWTxxeRou5ejFoR139fyyjfU3eatd05JlghUtOs75Gps7CFn2uoa4Q\n",
              "CVkncitrkoop5XUXdxqCcNof2MMaA05J9m8wqoBnRZmTIoGAdEqfuCngdexoUxTVOuCuBBD/q6Pe\n",
              "wnftiFqA67h57+JHQQ5eUAJBvWPiX0WECUJ0n04a6q8VjUTQ/bwuIX0Ya8frWmTTetJMtKhNqwXW\n",
              "IPuNsXUCJNnQbJvhB2c1SQBLu8kO84OMcAiwhbGIpC1KT7OqvEEjmEWABj/zC+dpdx8R7ANrGTCt\n",
              "lftSuKnOLww4y5hW5Az2OQIg/Cp2XDLzv//7If0w4fSwa2MdCQeU+Lan0cUapowOeb1JGEevFHIG\n",
              "E9tX0azHqofNQlm/ZI0TpzSMQZy4B+XSFcqJcc53ApUpWW9NTdfO6YTar0cBg2RQ6/Mc/jnFKTL6\n",
              "l/a/Ryg3BkwASvEjrhjW3c1opgd1kXiaSLUz8WY5TpctIVFZdGDiCHok1+qfjP7H/L5Q2WhbmlKe\n",
              "az857N9yITUYQaSO233Y5lk6H+V2WDOL7otz4a5j6hXCWlDzc/Dd1rZxK9ilfqZhHyHMx7oYTPgP\n",
              "2g4HDbpUsMeFLyJ5X1RNI2BPfvcgZvyx+B6BRucTwZDfdwnbElHFK+qndDj1oB1tfohAS8ma6cnV\n",
              "WxNLZ+M6lBkzAHQFZr9IiJAd23UwfdeDy8sZS6y2mxoNg+Po1HlDFaUoTLi7f+DtOu3iGw4BpqoR\n",
              "0KE+RUL+pT2qbqRRjbxL5B3k6ig8I6W0ou5xxOl/38OofPvDWdo2jHMTVd3VYPyFCFDSvGRuZCKL\n",
              "tzvCxue3lJLvPDYk/dVRJYdGCMqJhEkeUmRZredRj5EJpYJbs0LOaeZsJGC/CGFyZCNGdGOzZhZS\n",
              "98QJawyLejfd6DMjqNKknBlLijQA/jsQf10wX5M0sw/xkfptzUjeTmJqGMMBrCxcDLt2I8ZNpMSc\n",
              "1RmPwqDcwHqzPgS4mNyrdx7sevlCXNWPkDZndQfmhG7OZDX3Gh4t3bspLZWU6RenT9Xyq764JTqG\n",
              "lxnyNmzIlUYwbu6l4i8pcg6mqjVaBDrOaMNXN+noRKkuqTJRBL5qisisvQrtBHekl8EW8CqCbK5d\n",
              "ae36DT9EbsBtuaP+lj6xpdkrJaom0R/7N4Qkzvi10UZ4Y7OjlYnC6y8PftCcycEBPwCJBKRvCH08\n",
              "8yjhA8MgqrgXbEwKf37AFPMo6VIcjFF6zTbe9PL4ND4JtpU/5J8XFFgFfh9vLR5MvQhrIeyQxh+L\n",
              "I1pF+YuYW1PTAtqGdyW37yUojDuWMlq78qdgoY7htsRHuVvsQ6ZZSmRBpzojJWrdZ2Z0Jrc9CnxI\n",
              "PZFRAAAEZEGaRDwhkymEEv/+tSqAASH7Gn0Gv9Y4jXyT5ipnqCFW4n6ErdTZOjFVlA9auUd6t5Vd\n",
              "baIam5pUa8KlSNQ1YMH+EEgzJbv6xFeyT1udJBF1BbMLShoGVF5QJ3jmxeXqZX01nnJml2Lz6o+5\n",
              "is1jaTnwCMyLqfTKQwGKq2wvvFA/rHe3ouU0MMRPuWEYuNUnlxhCaH0Cruh++x+jXiCJB/Z0p/tf\n",
              "M8S6x47294cbEppEvkGcJm1InSY4+kh564iiPbuJEsXg3ZAMnxNMqtIp6rbAwPxFe1MZrH7OIzqX\n",
              "fY5crUoUkr8RQ1vqaFT6ogFUcWNalLMn6oUUWlKWsgEAhMOBoeccN5BjKmvGWpKina3h4tRhV+4q\n",
              "0TB+wN359a0e9lhaGxT8GL1zrxsqZCFkKjgQIOIIYRteuVXDO5wp5NVZNLWJOahbM/FFj3EmN2JA\n",
              "m9fDMd5I4243pGUoumYPs0OWjoxOFZY3BoLwPyOiqJUM1AA1qAlNrDCM+3LgM4WvylOLENR9Ota/\n",
              "whIyES+Mh7YR7sMnorNXyX/YyD5UYKhWf6SQqz29oxaTbL1P7+g/BdjvKuJz3kYoIHRiazdGJt2R\n",
              "loHngWKwTq7jUBA6atUWiwacqgr8mTDDWHanHMYW4YHbP59RtuXjYw5/aWPq66aE5wAKI+QCyXow\n",
              "QfgFnNosB6z9WqpABbooWfYwDz06nDQxCtcjHaVLD4KD0UqU036UfqakbIYP7AwuK4k/rY5iN3Ji\n",
              "sGZGUo77pWWV9iVX3QFVJJ8dcP3xiDiwNMzp6HhnnovWM0g6kGmgcc8zm36twjMk+YUrFlKl2pKJ\n",
              "klaZ86fAlkWnqDllVoq9+mAMfgGCTNsnGZe1kjzCf9/Ly8Zn5AvTgsRLMGbS4uHtp6T2HJPN6HJ2\n",
              "TmlZwR5TxoN6qv0C6UgUhBGO9TY9lmZkB1lIHY09mLyZzQ9c8VDK0Z/6yDZJnjcGLvhb0CljA9et\n",
              "fCl1NupLQDIB35NZO0ut1CTn4jlcXvmUmJP7ofqLQy0PA2YUt9ehqIERYnDZSizxIfyc9Hsnuyan\n",
              "vzMZp4Y+8r+Ri4HxO09lwzkoH8iDodgPcL8f0jLFXaJlFgSeYimQCsQDVW61pAULwLbBI+yd6tWl\n",
              "vU2F3k45br6Amo15B9UemIIpEoXGETYJk6XF3M/OP+uREqhROMjE+A4Xo9lN3u+4QncWObVIoURv\n",
              "Zf97TFF7tl27G5aTykF8WhpgW0PUlkLY/OsS/Kj9ryPlTRrbHOqtQncTwz64VYWQsTRBtreOLA/V\n",
              "NosTYwmp+0zwPJOcdRA2cegtunqH8CntQDXc5r2jDWpy4aLV1BfHfe7Ea1cfPoAXU65VNCB90WNj\n",
              "cZ6Aa6COl5vupd/2aYR4aV0wb6PNZxSeXlEmuzgh94DTyRD4RyKOlyWoIiE3twN2eDRg/0qr9cic\n",
              "qaVg32R3hMx+Tl//Xttpm7dYtsI7mE5tbSeTNJGuqNjydwk45gJFAQmgzgulGIMCAAAD1AGeY2pD\n",
              "/wADOBlU/mRz25Pgsswj/CPOyQBWrTtMJkJ2255CYsg0LR5yLSKW3uIkzrzsLYMcrIYn+Lggnivs\n",
              "NBwI/+iAmEze71gGbODKL9uGhcYlrim7aPbsVifeG8f/wPpKMr74uprcegBVUujoWLUIVOSgJXvd\n",
              "GmLgIffhIAUcTMwxSEt/WWPJcq9AF+njysXXb5lirpvQF/0o3kjVoKlYVjFkjuXj+qwBniRAFhQt\n",
              "VFR8oaCzt1H60FXtCEbwFxMEu/1Iz4ySpwrFXs4JFrbdaWQRqaYQWO+0hGqKTrM70qpcGoDL5V3C\n",
              "TxrJHnQktvfjda2aLDR4xZPwSIR72tl3/Yj9tCdx6Dvn2MqhLgxmb6GKLDgu7xB2gyJW7tD8/8PJ\n",
              "2SYMrwFqlvw+inHaeRxy4OUE6V5I3I2Nx3a7yUSe+BF0cMnlO0KZeCNtYu9oWvImG/nzzV2MzYCa\n",
              "/eQvO9PUcabhZbxJ14kvhMJMj+/H3DMxgHMYlu7Vc6ZVH2vEmxS54Fq/jQWZVzC7nvKKwFSgCGZZ\n",
              "Lv7J+107WSH33HRxDjyDwQrmk8MCMLGn4RLBMbyIDl+CkoZ/FJkrbMC2UrOZYPttYU0k7d/HO/lo\n",
              "4b4m5utrr6tvkNkyyQUyfnkBXVXYONbYHwEWStyBs78/qLEUK2Dyo/2Rr+iBbpMBpePQ2hbGGnGM\n",
              "ZcsWzKwHMTI75q3xGbHWpaYsX9UpMWMcTDLyYYArf7gVGiXe6HpBLRtLN6QY3cwQdixdv4VWcb8Z\n",
              "qNTMvggzTp8FZ8h/n8re4V7Byt5zsqvzUxAuyWORLhNAIr2yHbJCuMniWGX1jUowlzRcyJYjvSNS\n",
              "tU6wWAJNbUgZbXYvoJ8z6K6m31NcxjhBVWznFl9NYUJ6JsZkjrG9/yYKTtWGQ0Objcz1L+d1/AcG\n",
              "LpFOe3SrfMuAn7m6uAR52zdm9wcd30/fxME+aAdbiXcWcCCcbw7a5eJq1XXmqvw79lVFHQCG0uJZ\n",
              "F+ZfG6rSbww5n44CM/ZvxD0lVBFH+3AGqR+uemY8mX8tL1WLda6FAIMjdO3mN8piaoA/RbqnYt5j\n",
              "ByJlIzpS68HQtaDuvDhoOzpvXi8uDYweUoflUQtHspeimLbrgufqi101vwsMCUBusv0jvsTtQsxv\n",
              "h1ph5WWjeAYd0mG3dfgZSIZxHn4q8eTQ6CcSeaeuCMXLemEtp8PX6oJlxpjAyqwHRDpx8+rgLOPk\n",
              "cfAKiHraZau1vDLKaEIRaUFP3lhiZmiBkAnPRbyswsClbVw3/PA1qFk32ulBVShLtvp1oa9Nqfph\n",
              "ZoMY0HPPAAADO0GaZUnhDyZTAgl//rUqgABEfsan04khYSd+u8N4vJKfGwVPUvu8f4YAKEfM3KLS\n",
              "dWTCI+I+xYpY/KN/AKMfrbBbLPaGNzx41zHQWtDlLXc0v3TQJYil+mLFbOw9uFuRso5EzepyfEtE\n",
              "GHUVS6nbOKHbkIYc6G3AWm5CYXjc26pFqo3E0Sus7/8xhjCOCi1HcsfyiTYxEJYvKO0Gufg+ZJqM\n",
              "eZ1p3UJvxgqJ1dGR4bFUv5e0uh8zE4yffTSYkV90VlcWyv/B77/ROVJhvgrAFtRJJ7zHm9ZyIxiB\n",
              "72OaP8rGB3iAJOVjV6hxUmd7LGhDZOT1useFyitQPFQiXB3HSuptseIkrc6CJYF5j8Wnyc4RLj6q\n",
              "a3+DLiyOMdHANdgbULjEeiJhU+I5HvxgQAybISUJYi495cPbPaq+p6WkDldtYRjK05DSt/dmhBNZ\n",
              "WhLR4D7vyGnl5JKocHPFZTOMHLTjxkEapydtiJdXrBCzKWoLyaUsedw6z/S0kFzR5NFoil1BEhwZ\n",
              "ycLpSrb9r/5WM8xfCKzDsbG4VxEEMuSTP6MQecZ9D5j/XBo1jePP5r8h1kKA0XMi6yndVCvqehCl\n",
              "/IccGvp0iRZ8oOeVNDEqbjowaG0jZRwnjG13qEu/8ETa+h4IE423Tumc93rWNLOeBJHx1Y9BkhIy\n",
              "KJrbEr1YgAY9OR9YR3V16Qp33oAVxh+F6getqHIbznCTbiswEnrLIl+ctMepbZguzeRpknizK0/U\n",
              "6QXW1WQubpON8Gt/Ivoyb+frYiuHJ5SpqjvOAQ39SH5YSsRmrgUYdsvhjVCXfiVigHoaZ/jKcfmC\n",
              "xk0jDrxD1zYpcQisRFTQdNyf551SGNqHmKFSUgQbCu28aM7F+aAmVHv8jGKh83JP2z+7S1/bjtH+\n",
              "lSf4Ybt+26xYy0WHNl1a/T6De298iD/pdFL3snISZD/wtMx7qVxs0dq56KGdGDg6607AUeK7H4pA\n",
              "0uQRpQ7gb/pPxq8yTeT7bh7eHMQZnDgOQrCMoP47SodXCC8X8CHER212tQBv+P0cywBY/tHod2ns\n",
              "C7stnyy2BtZ/Va/QFlmYfDP48GVNG8bNdpiIFC6olKaYf1qVQFtBAAAEgUGahknhDyZTAgn//rUq\n",
              "gAEp+1Dhhbt2doPPu25dvAuzgDHsO72bB8GimnBElksykcwhsgPM+A7k27Jr3A+Y4x+65+rNE5vZ\n",
              "EGdtSkLKewsxktsRYANPNNgoy0W1EThot81hkhG0Y+rDAlYb+jEPRnZQKi42KX4q1buZ7s9vBaUo\n",
              "GOt9q24IQPzbmcX3oD+s/ReIILb9h++VWjxIRMH5r6us4e/KuRnZlVS2qer3Mqo4LnXIuwviQiKU\n",
              "EzcTGT+KyCuF0+l8YdRVqDzJ6how4k6htKy8KoAvrJknXeE24nRhBGG/AH9Ntp9uUqeVt+0KfEcE\n",
              "9fmXYBB3wVm7GZPvC2v06JJS2AIakLLasIKOEa34UJacTujcxbqSjueIlC6dj1TVEQ6VcVlv0QkQ\n",
              "2sWlV5xeGY/+8pdFNnVPz/ITNnnpEPjEBZD693UDMKcIkNCgDE2DAQK6eKUvoohAsIjbk6DPb7RO\n",
              "+GASVdhnruLwkKhthkCbFLYjORqura3xeYrrOD0jM/qm1sOMM6OPduQixn2zahtmJ6lJw0lTcW1G\n",
              "iEm+uuFfzeWsXwpBYwNV4S7NJ9+pPxgqWySDot4pd5jBevLeUTEicz3PvesZZRaqJzyr8e425IVB\n",
              "8AGTnsqEffH4uHr8yx7LdiBYw/KJzTw3HhDpiVtYS7lB39LWya9Lvi8sT7yfb82iVF1RmMs2e9Tq\n",
              "rnedE4+eMETYiluGZ7+BunIEIHkCz2phh907AHH6BuIaYFvJdOrg8JXVTbUdXZOWnQfJEcq5FLn0\n",
              "rUyADZJdZ8CMxk/mivR94g/OIL8mdpJ+pqOnREnnpmHxgzH3MEc7gpihFlbAt18Tqy8YLx02omED\n",
              "zUXtRxic4bo8w9MRQQgUdMEYqP7fuoOedjSQJcrHyB37kx6IOlfFx72JSjTfAxGTzIBcIICOUrvp\n",
              "/rqnl9O9C7yvggE3XY8Ahnp+IfAWHT5LNkD6u0jLiVHI5OcQhIwPXIw7loyFnhY9Hf2Zl3vxOVIZ\n",
              "vWZxtU1+7+PDzJZlHnqmU3LNx8+CT2xPQwPgowQfZVkpmwG8Z2ZT3mL7G+qKACW92hN4HmYLaQAh\n",
              "wMWwCCHKSTiOz2+PHwPUX1hht+B8FhxcXcFRbcfX2HGwRggcFY4ckGt5C6acYG8SeRVTsTaA5sUM\n",
              "vQr3Nni5wIxkJUR7jfb5H+CMcAhgrJAi0PIiSEdUvvQZqPhckr8kgRW3lWOSC7nvyBHiWKpTU/D0\n",
              "8+LQdUsFQX4IeXp/EnhvGqi+QzyQE41/0aJjG8xRlKxmVxIub5VYXKCjt/M8LxEvbYxkqWyEY/CZ\n",
              "JDHLx3fpn/Z/z/RqcDDHM/G4zG7limDtircomyi0ixaVIADySoTOS1AQQQmTx613XmTl3kWQH1v9\n",
              "bC9oqMEa99tZjvB3HQxkDU1tDwssXht7THVqiAgXV6n4ICIJfukOKizzO7u2O5O3iJTRIQWuEGBw\n",
              "V1gZhj6grEH3Ej+zNdpxzz9xntsxxg84cpo/03tzQ9BZfTrFv6SP+Iv/L3HxaNu/GphB4UMahbUA\n",
              "AAbfQZqqSeEPJlMCCX/+tSqAAHJ1ldk5CMywAf1uckF3nSMD/2CJEj014KA5f4UGp4ucu2/7Bqw3\n",
              "dlntDJhZIoCN6NtsymRjuh3odYmV+cqw/pTBWSM3QvFzyPJ7AYY9upCUdW1sr+c9hFAPsWH66tTI\n",
              "uC9PhdqQ57i4y6By4UrPiRQGoc54rKpHLvnoiLKsS+yNiTnLu1fGTZ9uu8cErStncYQsS8XY2Pno\n",
              "OkKiPNRuDv9lrXMfh3ZCa42fbSu4KIwFllRpXYk+9xNQMHpAtExdVnpIbPTKj7GxSTNaOHS/F2R+\n",
              "FpmKmcb04xKig1bwJ58rVFWScbgClfRWHPvVqRdvBgagFiQywCjynTiHFjVdeYEOFl7AO0d6ZqjR\n",
              "2eF2T1AKsGu57uVoLf95PP4+JJsRgZzkSFLO9ivBtxFyAtYX0cmK27AfhJS/r5cqfJB0Jl66K+AJ\n",
              "OEoy2eEEcIg3dDqNQXKXfWuI4eUftLVLZSn1IIu0lGVigio4ySkrse6oClbErp2xaj6cRGCrbi3Y\n",
              "6TedPJf64xNL1FV3yZkZ0CZeXiMtf4Xne98tYOcylOD9xUvR7Ui0thIb2ia8yH1bknfqeCwnwLua\n",
              "cQ5ri3mUqV+6FHt4Z2H9OrCNrlCL8VU6obMmipXS+DmyGaqp9eQ97Uhn60nMOxsU1hZpA3Yj9unw\n",
              "J5YW1yGA123CSS+78tBlTKLhKp1eKguH97sQ4QmveUxBCQj6t+wAC0FUHdDojxQKv4pRYb3XoJwh\n",
              "TYwK40VAmbCHdByQKP19tJ6yLD9bPRDFT0fJrcJ1FsIEZGgk9RifSK/JxBSiPNAkNvq7KkdNBFAx\n",
              "Sz2e63krMN7ZUG+rJZ85pIXfRDnrJqicP+MRhY1wnY7kpvWKNJlJMOLm8VJKUzO++KmtpX1FHTfp\n",
              "FJln4U92h+b7RSmmw/IgIizu1CzaBGU49WJ+kpGj76MontfCi7TK9h8zbP5EeLx3qVBMsi07kSde\n",
              "aGGLvjZ5MtEoH1TJaZl/GLI+vbqwJpvhz/nZC/V5c+ZDJxZ8nCHTVjGjVj9zJjw9IMMDkcHI5Lgf\n",
              "CtdDHz6i8ijXGTGm3jW1IQj0S9WB3OIgf3OGdwebIVp+KRfmQHwyfv7NEppMZNsga6MQ9tp8M4KB\n",
              "3aatWNPeLNdCB6//swJgf7Qb4NpkLzFI12yPA+bQhduS8UZ0tvRkd/w8yCAMnLdx0lDwD9FJOBUI\n",
              "XpF2JeW5rT/mlCqHV9BYo9wvdFpaKLe45cYCQP7bC5hGQ2hUunLl+HIUZvd8FN+F6voGYfXatATG\n",
              "suXQ1lprTpOcWwbGNQHRh0zCkmpoalsfeOnY835et/E9gwGzqcvhvRM+A24TIeIL9GT1/nWmdHdI\n",
              "W7BK0gsT6r/dmwte8fDjfBZ94RLr0v58ZxF7IozPMmelehtoX5eh2heL5RWnJpX0N6ZBUCLTv+Q6\n",
              "wBIjx4ONoPU/hh4vx+vOeEQ3/IGn2YYj8mDv2pdK35o1nrnoYN7/iuYK83WHPFYr2NzrbhpQtXtG\n",
              "Q65zep3w4w9UrimJt1b5GLDZbGrrOH1HjCsmD8TmFW9tXkCwXzHIAZug2tTKtFKbmXORNtqOg4/M\n",
              "OS7MO3GJ64egMBF6ZFxAPdkIZ6BMMu4FWq4TgfbV+i4gamkWqmbWPkS6jx398anR+GdyQaDPZpKG\n",
              "6/AK4z5dIWxAhavKhiuu3c/jOTjOgO3gbclco7AzWP3wwhQqh6faH06z6+BrYuSgbbk1YMaPBUsv\n",
              "CJ1YI91sER/QiLH1N2nDN64YqRB1cOjJJqK89Tr4ZnOJALsxiDKSSMcT22OmNpVZfHasB851ZTGQ\n",
              "mcoRjBIXgw5+AIZu8jSOI6L6TsnxArGd7M5T5ZAW722KnzoaxwyQGm2dIOT7jXql6P+qPBFvztEV\n",
              "5fwpz65ZklikT6rF4Sb1JNM8ZRl7SPnOX1GJq5Y6drisDz7nlIf0JqXLvjTkaQdiVFpKy/g2NdiR\n",
              "nRaaiCrvlLntJMFQ8PeMJceDkk/Y1wtKOrhYfr7vBPNE1ip0JQahpZqOJj1jV/3K5BIMZheUwumU\n",
              "oUuXsR2LNEAC/0F7lSNdXB7NlTqGIgj9JBDdL2OQU+3R1plbtFFD48ZsuXHjwXaYDTN1sS/S91p7\n",
              "7K4MCeM2RrliisFl7XKEiLSFwG+C+AepQ3B1k34ghu4G/W3CewS3DO7ZJdDvLaJFvpVJm+P0PQX6\n",
              "n8C86AWyZxVZl8uz3D4BIHx5qmCcelwevX2q/5+g3iG2sokLRj5k4FD0dwljs05wEyugWx4sTm1B\n",
              "VXHq+ig+3GQDTkWQRSX2RnZFJMue5kBKkkao3bUOU14JnBQa4+kogLbFy7syhojq2Hqf4QAABB9B\n",
              "nshFETwQ/wAAjq23GHAGq+fPXMZugAnb2M6mdcUbGGJFZq0UHU1Nxq7/mgPBNv0x6XnO7HGrGnLU\n",
              "zXJ12w5ZR/iF2uldSYLYNMobA+MnmcwDdLZAmjemroO9oz5HWtSod4SRYqugGeY0wwWDxDUwnJkp\n",
              "jIo/Ybz2Yxm6xPKYB9zzp+lBG+bioP2s3yLRmwZo2WHans2lIvl7WKL53k+pTTkRNDi5JxNDD7uZ\n",
              "GTqQ3vxyNmyGHBCEYS9fJD8z0fraS04f7VA7a9jetEfWSdyERC4TFL1E261Oyu74Zdz6li7FiWnL\n",
              "wLQVuOehkzfVDbdIy9Vi+ZOiN/dmWx+ZVSyWOedaOFMIh1WSGWLMGm04TjRCN5FpIfKZdBxNJuoK\n",
              "XVsepLQB1DSAqEM4YPD8Qd0ayy4AkoEH4CMhVgAvxiVeKXq8rysO73pUzaTWv97t2iDighfGU5Ap\n",
              "jSRJFtiA395jI+p0TWcvnRGUqR/3fFeUCrZeKE4i2e6DTJo3l+dYujccO22pWqiqjFqAzm+YuAlX\n",
              "Y/iupkyZZPNHgtQxLtA8Ga1IJMfAsj2h958aWhJjjk9f9OYmV8nXdKv9BO4+4NGJoqs7umsyyPbR\n",
              "qkYS8zzDbOCiUrLJgBWOGdX3n5G7aao8BA5Rzc1bam5Ui856OfMPTEZnMt8CBN/rZCFdIIa8CC3p\n",
              "EsdOW6eHj7MKA1bwRyrGfWTfdzXq5fl2Zhp4S6G3WitvAq3/Ckfp6QZ0N9e6GHfDsOXKrUX2DiiC\n",
              "FMMAeAxFi0bqJKNb6N0k9NDdbnXX1C74/NS0zpgGMXOcQk12BsHc6C1lXHo8KDDQoDMbIJ38A7Ps\n",
              "/1V7kYjhtcRebSnfhJ3HwOlCnF1uqEiCvNOiJsgU3GbQRLuhwBk16r1uMo92U811Bxfy49aw2VPc\n",
              "jkR4NgkiCLG9K5ay+0YqaU7vVIsOaFotKrQkpG25C+Jwicf4J/seVQre5GKzrPhTyKxLhIIKM8BI\n",
              "POFWLkdT8XEw5oyiQYk0l7hqBDiy5e/MDeYNKT4dcfuLuesRphrBTxq54mjJykchyu7CMa8VRafa\n",
              "PyusF1xLXLtA7pnC+SMWYli9LRnvSpJwz4uWcZYGrX8TEcBIrp1owPk9Ziz3A9s6t0KWd9c/wktc\n",
              "rpvcJd4gs+qXc7/9ejVE9SKKTm5jVU4I3Hjf8ZrzrKunH5aSJd2CC9AXS+m6wKtyd46awkjDmufX\n",
              "oi1EpBCaNYNe+35xPQhuOVhsrsibh3k+Qh4wYCcEdWXaby6MaqDST8IbZcT/dEBwpwFITTeJF6+P\n",
              "i9YVf5QkvGhA/YJow5RC5w0ynzRFrFpXxpLo0NU38wdEODhVd+N1W+6qQgSEz3KC+yEhbsEZOgiR\n",
              "+X/4LozF2f+Mc9c3zRUG9RI5VqyR51KHV080YAAAAsUBnud0Q/8AAPLXzZL6GBnRh5oATrluVHC4\n",
              "o+lCLV+yUVs+JHwZndPHimXZQBLwfM7Xsh6tBTkCwPKvyqRgJBR/uFiH8EsZSdjEJrc8V0/m6fGk\n",
              "E+8Hfn2NjERdqeiULz48cguWVwshrpNdcf4IYbrw9Dk0/ypnTRMh6f6HbYQ+6CFPNlalfSNaFJlT\n",
              "bO0GUB1Fg+enBwgE2aTAZa7nW+JK399DXwqiTbRHE+NsKDxBmLbDtR6hYF2HCpy08R42YNXTiSEJ\n",
              "iSQ++j2anK8FkbrB8Kd9hIDeruhuqI6TZMKPcMrFGEG/Fkdf7TW7TNd3Jz0mDeKAX71Ey9fEr/BC\n",
              "vr1WqMpRGCLMY/3ksHfPHJdqDymECZBHBDeqDAW3UCB55dDd4qBTfNiQXAcmvowddpEJFfF+0I61\n",
              "0eEoDfZZqZYeH/wPkJRXKl52M+8hfH4kvIVDR2OvJTDKGJanPNw99vXGS22SJkOCEDA21ERQ+Ltp\n",
              "jID4TbksCzUV8MQIa+w4ZZkNkRqzBj4SZrzAAu7o6NBYpA+u5DRaRQ/DWYXbFAR3nAw/PsJ1FduS\n",
              "6Vu9AmYTmdCeqW0dnJDywTNoHcoDWJaJxamcX2afGIAIUv7Wh95X/JVaYOtoW/4GcT1wWOzf3xkv\n",
              "FCOAAw2X5aN7T9OQ26oWhixvjko5HXFlbmNt595LL/GOiihCxkROcaW2OyeukeZAUQH84lAn61sW\n",
              "UxffBN26UXfyZiM7uwL2UWtELXu2iMu1GBeBgNgP8+tLgVIYMkoOt/8NiMAARuBfPABJ9QkouuZ8\n",
              "QA/TfFsMMuHmvIC6Pq11S/MLJ2qEJbrMNV9tk4BjOQqMHG6Ej2vzDEZV4IS4+x6X72Xj3XvcbULi\n",
              "AKQqXJfUkf4fYSaPw1XCvMLqamIUJ+HZJToXs7xzWIMxUO337QAUuMurZ6zNu+Ib2lodzhJiz0i4\n",
              "AAACjwGe6WpD/wABPkfrD1ZfiqAyAEzKEruxuj502S+hpyyKVScGM9jqQrwJE8nllxe8bQlQ27ff\n",
              "o9UE4GzSKQBd+aya30BaLk4dOcCT5qM6o7tzqjmvDuDmIHVJFsQpf+7LwjKzIKXhxz6AtE+C/Sgd\n",
              "DzbXBqTrYIKZkjZaNUjdCd9ou0RgQvWoSTS4N7gCVBJo93D5I3mRMPRfw21gTuKkGrr0a381KIS0\n",
              "iRwbjnTprgMHeQCgalXcg/RL/myJPuWwcFwVFMErHNfg9hDoqPX7LpMpZngx77xJnRal7q/I0wNA\n",
              "yGWJS2ZeeCYxo3jbzITFKO+AP90Zqz6oRZLWaROv+XkKXGtX2X31wBFXWitlrBMJZs3u1YPeuNjX\n",
              "UOBHWIpIxg9yVG0Ve9J6DH7/B1ejskD9vky4Jbbm3KvfKdYCwzB2zj4yMemhiZ/mV665b+JUrrIs\n",
              "sgqG3aqtqacclHlMy2x47XVZPV/bJye2rEIzlI4OP0K6YFy8z28ONFQ6+w+SHRYkQ3YMsneTNoyi\n",
              "Zwg8xpyFUoRPqdGtAErh3/oriuRXMZE0BIH0zkx4aK92lJ/9s9VUfHzZ020eRdOBsawbDrwLpwp5\n",
              "UO77BXb/8GHBM8A1DZxzwE6RVK7YEMhuwAMQX+tQVU8jmzX2Z0Xkz07Zd78BpnmYOgKKGVBBWP1o\n",
              "axNhYQ5PWuYQEXLw0pLloQ6SGo+66aeXQu2nurr+fpgX3OnW3SnJUzTjcgiZM1Gs4lU6wj8B7yiR\n",
              "aSBJ2prdTmk4+KEUIhCFVC8vpwKeoMSsTI9MIf9LlBQwGh5G3L6o+X2pv688NqIGp+GrTwDUiSeX\n",
              "hQUlDyM5OnhGXKN3USFF3+FyzM8FjVNM3S33ug6lpmEAAAQEQZrrSahBaJlMCCX//rUqgAByH4LL\n",
              "YGlgAllj7re9V6pJZcw19BX//fV4+dXH82RSQoZ8GyExghikZZnTNwRpUF5GuqP2TnwKI0zBODwh\n",
              "CrtDligi37WVYR1mQs2bGFH0F1WjCV2PPrRG3X4PXfZ3qIWRYyNTKvCjkez2OnEs5X/71JpDDkyS\n",
              "/781rrKNVOqXvzrfG6CExPZgAiTcbq7Qf0xQftsudiTu7kIv/QBXBPHF1knq1yWDQwUA5XLNdNGj\n",
              "AfePyYZGGy1gvom4kafaSXgrv8rSjwcXsYYMWoAVseczkQVQoGoGkPhA+IZ6nSCVxFCdr/6JYI+6\n",
              "vr1Q43waLT2RXOFrf3uDRvfRBgj/Gk4tB53S86FKpGevrJEtSGKyKXLK1t3ElTSGnF4OErPuaRbL\n",
              "Qyoe3Era6Zzq19nOvjVso+WDq8QtVtNEsG20HdIpRsko69Tme6MfRM3JK0QNwJrGeCQev16Op1Bb\n",
              "K0t2L7s4g+HwKMbcz0e4+pYd17pvrk2iahA2dlA7gQ4c6RGvMZ8AhKpUUGJwZ52s/giAtcklaVog\n",
              "eIzsgksTN3K/1mk0XhYVVLln4lioSaFQyz8D2btb8d2sA50ktaGlP7p7W57duEUTOp91eT7cPyry\n",
              "ej1f5r6w6pAhzB2j/6Dx+Zeq5ng9G12VgOJLnOhvME9GfJ1KJ/zusj7WNZNnhOqGq5zu/DoRvNjP\n",
              "D3HvWBVzyRfpwliJPPmrej55LGTiERoHHO7JP6dPIAZayezZMA0N3R4lGlP/yF8UYkZ3oxdJYCks\n",
              "pKItnGm5jjHJp93GpwJ7Giz/o5uhQ6Em8owM7zmJPovT8865/DQAdIlQlURbEjezhGurx0iLMDBn\n",
              "ePRThMlJ0B7JmwqSiw8JoEnhi1ynoLWXPPdAH8ZMDGE7wHOpF9rtglREd1lucL79w9U9xLSlGh/1\n",
              "+bwU5lA7nyyhVlboohL0klpDxyalrr5xf7ga3F5XQaZuU80SjjIFFB7PVyhKZy8jaqlz6+tvwmez\n",
              "o5DC9qgMu1wiHTN8uVtEr5q93j/jRlgcIyj2z7OZqGVOpbsIS2ajj9O1oiHCpkQ5ia6u+pCOAzut\n",
              "fXDqGqq/vAMyvSoIZrTWkerRt7oJ/mwneNhuxNEpI4HsnCtO0XhanZ8p5e84jzAjLo4co4Xdbt2z\n",
              "JPgdmHFVriAyeWMSHNIvRZ9jt8QYVHjAx21dwNPchXAbO4VDROaiLyuSHfAc9ekabEMXG4VBmLaP\n",
              "BrRBmvmu1wDdawZCmWDHBbZ1mqeJyAMQMEdR5Xz6Q8BTImGrcaw/PLxX2WSG6OixK0g84vZcsxHg\n",
              "IZXvQuQth8RVoxchHQ7OkuZYH9rdO/OCNYPVIBMyFb7e6zXAp94AAAQ4QZsMSeEKUmUwIJ///rUq\n",
              "gABx430eKABwUC89tRq2eEcl18D9Z/Y+K+om9ceBvIGckT7CiWBkThFv1CaMR0B6wl7hs7bht7lt\n",
              "u2do6j3ah1cgVDkAs+Ks47jlbw8PMIbOuTiRODkF34Fslr9XB/0B/OWfmftS+oNUeilM2yj0OGQw\n",
              "coWY+StBaSUXw6cvxTOWNhVfrXEmf3RHFfGYHG7nEiXaBH5KOlUc9OqP10q/wlodyOo0OC9FfwuJ\n",
              "blib0im9cAYQVyNGAF1JmHf9D+wGMxKMOCPomWcXy+ZMcepl/R7+oUI1AvvtkFWnQZZVsHFYd2gV\n",
              "LIsYuoXrC0TZ8nCYw+Vzz6+A2vpaPBC9ZtX6hn3EcEh2anzfCsEcmaFhMgxR6ypRIZgELE+IWZXr\n",
              "nURrARFQ8CPqrWk9EgL2R0kV1IcO+J79usm6eBJwLgy++19pdTvihS7Fv9s7lTPPyFv3l7IzP4NC\n",
              "rFqzoW0H3b8cCD+ozgnOMYFpeWgUrSzNKmZbs1TtpAcrQKlLqoBbqCZGr0TOEvNLM2AYVjSxJcgX\n",
              "6OtSEWuRPUlgw2wpXT7F1+3O7+N2s9Zc8I8h6i+Xfz3p3adLWNJEFCKKGxX8r8jUeyIAkw0MG7/X\n",
              "ugsheTGGFarDtQptkNM9Qh0nJ6fadKRnAA4qd+8v1CsT14758vTOLT5ejo8vlaNOFnD5lRIe8EFt\n",
              "6DqVCNiHB8hP+BgBGQljdva82bjLAtOdRRwSOE8ydE7dOTFJSxN3czn3saNGhyqSrTK/WxBZKKe9\n",
              "feA0tHzx9cvUfE8mnA6ViakvecBeNWlPoRwAJttNUiFTTlWJV/PKsYY1mSZ6x+eq6wRPAhqbGgm/\n",
              "//lxKvJKTwiu8kqPWtsFwxZJl3i9O4bGh+GnXeRvmnH6n5WT3uE+E20PRj8OQG9MJz5Zr0vEPe02\n",
              "QdFqvKYt6QfK7nEc2Ll39BFoKZY1VHg43A+I7m1vcy8QTUrmPeklBCghsgVJOs4wo30jzkdjUwA6\n",
              "yWRTaNwK2XusdfSs5R5ndC+OeLwrTxwC01ur48KyAEcYva/CzUmOfRoCerWko0HdRqkXmzxcZOJv\n",
              "vYwTww6rXENEa2i4COwUgLo9VCIF7HcLabxSocAdQLXlg20Y2Koc/fIeVhRTb0LAvXufFhJFZ1Tu\n",
              "23xo3te859x/wIluDK0Gqb+EKghog9Rmyhfm2gWiSRKrF50iC+rTWOAE+kWy78ZYRnGuh+W4Svjf\n",
              "+YUqqEDvXYsLoiClDaQ2ydizrgN6bYvX3C99UYTJfk1LeOUeTN2Ne2XKSRXGKKPYpMR6wvYrpz6G\n",
              "ExfYlLkapQMABZxe16GaXy+9bahkYFcZ4hxqckkhLm5TDSOlwawHzJUrsCkMctzZ1/lS3UgzF15p\n",
              "oGIPuQGdRBLtadaHHncdEGzyegtIttIib9a0q3lBV9uWnga7k+N/AAAHW0GbMEnhDomUwIJf/rUq\n",
              "gADjwKsABtW8LpIowsf8ZlN6U6CT4R2z2Oct1hKIMAafG6p79rdvb+WgbbnHYk9YFXmp3q4li30w\n",
              "9fSXG8IBFZhZLIkXXCv1Hwr57iivwn8rrS7P28MYJAL2h8x1sxFcqu6uF38JjRTU8f/XlArYoyqa\n",
              "NBo26lOyYsTTrS54PAJ4KDKIwkx1m3Mo7kBC9xbHBYfnAfM7K/rBU7L+TbQjMLND2kbgNU5sCDeS\n",
              "Ciwn7z8BRXV5YR0LF6LuBa6+2gjp7siyRjCqxCNlZcXv7VYzTrT5J8F9355VSF9KKe9wkZtueySk\n",
              "eP/ATENoZnrVSWm6inE+lBLx1kCDyNSAosKpl7508vnghJVF9qaXN4lAQmhEYBMLoiwa+e9lXqOg\n",
              "s6UAhF99gl8RuXotKacJ1EZncUgyFHxfq6bIQAtmnq6sS7lMVNm3UKO9+V6K5vcvzItyuFHeZGKx\n",
              "AFpZlmnx79wJYvxQgMW/MCh8XqaBBhqTP8vJt+O7V9JQVbiKrCnQwyNMbn+ik/A177jQ8ApOZmL9\n",
              "WV/G23fG8ySco/Lp6Ad4QfyXzf+dgMQrLhY0ZQcdV0pzOAQzv+1JCMFbFU0V1p4g81ZBi4Lrg1Xh\n",
              "4X+BQrtgjl6ljlp3/6F5lQx9jPQp9IDPIDwEjSNH5/i9U4B8PuveGRjhNqvIORmPzEVWCnlTbnai\n",
              "45kmW3ztR1Fcxut5FhDWfSiIOluUd/GsXeFcKuznXP6+f0mto9MMxY/WzM262RjYwCeJPHpl95k1\n",
              "h3X93AccJElznwrAtTnt5phy1HApP0vnb5deKeiXZpSFmM9/ADLO6ZQJb6HfeHC8yimy+8hN/2ZG\n",
              "tXNHvpfuk9vw4IruS+8b4EtQEMVtCSIkQThRBzPo9zwWYh8zWWzQr43SS+e/0m8tupDSyn8cv6Km\n",
              "Ang9s7dtAg791OaVmQwDTCBbHjIC/o0EpXJzBWwt2GXZiYtfsvMpD7GgKu0y6wg+I1bBOJVmjtiG\n",
              "RD+fxPJkcSMwiDlbKOGhIbsrToDbQ5wRUELmuFCpbZkewltdCquq7/Dgh7gj3iUlGihYVVDtuqPP\n",
              "PQGIF8XDZM17kBLLMW7a2qDKwKpW/MOjC/4dKMXjAd/yHy6dyiKs1tw5EYASBhhZ3YPrAHhgvrcM\n",
              "LawteQ6vTIZ2Zg7rxykgnToMPuBdNPJH45ciQh+MedJeulG5LSZUK/aLuWARA5qOu6CGDbffnns1\n",
              "qx/Eq1dzyp+83gqJwy9jFa1cs/SmRlLMfEuEVld118LMCwUz1qZ5NBfyQTOPNJ65Byza2IXDoweb\n",
              "PdaOkdjp8kwen27EFdZZj877RoVEgqmSxOORvimW/py12VtwHRgufzuScSjAtSHCpBPk+e16+aSI\n",
              "8U1Eh4ucTnhcA6Qi/psL2kAOpl6dXUgtJWIPmKu430epqbX/F5KLRwL3jAMNWHGdf4by516oipOQ\n",
              "RHP+6QdyLTSRQdIcxCXuUxKS+32yYcQyNHvwl5xHIFSO7kZtcxHoqPh5FY5OsvgsFQM8wIlLWjNP\n",
              "8vd3R3EwE25ejoO6F/tnL86MtBvowT8m8A58AEcMrQTbI2K+X169OAtO9l0hAifWk/Arimt8OXkq\n",
              "uhrJbzDumK/oc+MklkQq0n8MpTOgOyPOa6F90D1lVOuxxq+H5XAW4vH+d+hBMFuBMs+i3k8WrS/f\n",
              "O+EoHAuQyo7Fo4j1x7INE6bN8lxtmJzcSZWiFAztplOnTgo3Ja0oeoQcNgGnH3nf6eTW+F+W4Zup\n",
              "b2SGFh9hNNBTBzQTp8yFG8GkElGWva/rngCO19i4UPvxTq2T9WmktG66LFej0wj6zxelgUnLUVQy\n",
              "7/lFFv7W9EDnFqe5fqlK9+09JYPIdIiP7nsKKoNdxMvKeb+Qp9ZnfmpaaiTvU5zKisvA/DriChDH\n",
              "vMhQHIog3XztDWgssjNGr0thW43E7KGYhUohzKdS6nVhnjZRWlAqU/WjjVJ5vjbs4cHdJsQ2AqHG\n",
              "ta2xwWiQ7NmFOo8gO4NHV9lIMnvjQmNDlPG8TZGzilq0U/f3c9YVP/I1QhNEmzb4bDF1wJ+ZAUvE\n",
              "MT0YOSjp38GtbDXTMLVIUP3V0RbMR1mEs37iUwMgXeJlIWSM6eeC5pxQgDjhyu0QtvLU3FW04/9G\n",
              "WTnenK/mRtx8ZySsMaVIUZF4f8HwbQIkc41k6YgZoKT/amZuwYl9l2wUXMtPWJ+q5Jqs3udmnyLU\n",
              "DdY+ZdTdBkLxehw67cTmhx7sxkNBGKmfezZA62CRdPI7MsU/6XstW3vtcK5C1PC7PlT25k0Ik2dZ\n",
              "z5Dg8WR98p4BlO4RhAkIkFf7AiT1SoFqHHYcQ04YJR30AfGeT9cc7toASjFfzUTxaaR+xM+yTnZv\n",
              "pB6UPwNDi/eGpLZwm/1tIP3h9Km6ElSLxtelWrhGsPUb7pKWwyV2FiVFdwH6J9r6cU+SU0tzSY6B\n",
              "PqLVaks2HlkUhLL2VL9eiPuBDhzjlQK36HtHorZDFsFv4Zuki4vaW2GdMXmBAAADAUGfTkURPBD/\n",
              "AAEdW2iB4Mvohpf4ALTstzkEJBPXAgRSVwPDzQynqSGKpK6TmKax5t+WMXJcbA5+KAwx1g/loHag\n",
              "SV+96SiToNXrWCunO7bwsKhVXVJkFMd9MsOiXhgd0MczI2194qOh18bDpDKgfRw6uQkL6mHw/95U\n",
              "+Do1aiMLB8O7O0u7w2fdIk8cEgFor9DU6Qx5HcTIXAzxQtJ/uoftSSTF1wjJbd/dUX46nbhJCw2a\n",
              "f27U/gpFmdL5KauxCY+dEqbWl9obeo5+WpQchju3xZzjb6VzbgYYbuGGzVvxc7PP6lW/hVjaIgmM\n",
              "A70DodrLoSUHI+HqMQZvX2Oo64iaCE+hKKbQ1+B1gsso9PHNS997ieTq9N4DNaa0eoFyjWQzlJvB\n",
              "8yoGTk0vj8kqnXHEwXzLZaNPuJaEdfgVHfwrfI2+LEuQXjPQF9GkA2S/I5cu7fbXHOmkd922NrIN\n",
              "zEq1NgWOcF9fiT+iUmeEE08ONeEeKrK22G0gAinHk9QgKt5KdjMA71w+VP9eHgjtxOmW5K1bGIa+\n",
              "AoFgbvr6RR8v3CAwLapBWTF9THRlsDkuMqBDH+4kxMzg5bewk9JZJ34h+HXugtSg9hMGLvlL2C+z\n",
              "nZ/yS5NQJpr4IizKLWdOYc4ATPgTjShZoGgHXe61P8aUx+RKdco+9Hk7ffPAyMdFWr0iy9xQSXcD\n",
              "cdr60d78JjxXRjdAGUtX3MA/B7DcvgT5QzqdOw/k8/kMa/0TonhrpLwTS6Je95+IzeSYFaWftdSJ\n",
              "ZYt6dWWDLfXpL2nGAkC7YZay1xhkg1GlOL/LBn5ENoKRj9l2k819bjTEEFaT4x9rpWZBR4gauYQV\n",
              "zg/RZv/FmbUVqnnGNWnVf9bxoO/3X2WOS21QjH79oRbcuhO4dgiBEx66TxdaOfHkjR+/O9DgNT+M\n",
              "e9tPxje2d15m/7hSTMjwe4tVM35XjwoA2RgwsxJqS2TDvGqEjkt08XI0OvBouQ24lXfoHusUutQx\n",
              "hcZYAx2S3Ez0jj7Rb7RxCOvlCG8AAAIhAZ9tdEP/AAE8o4FgZMozYqOy8Uv8dAA9nMJ1ShF9k6Dy\n",
              "275drBcEytpaUXtH3YK2vzAgHkOsjHsA0nPtFQX4hpHE+KawkO7lDsp5+Gdi5Gh5HD4S0KPTvDQX\n",
              "z7IrfnH8SQrmu50ama0ZeeADbALN9GTDIykg5zB70hfdDv+OtrWVC3QpO4i7wZ9eOPYgwDBugSqt\n",
              "+WlQLZNVm7ieEF5Pxd+gZ+DAFJRddEK7FlQMPQyd4C++BxQJKu9PQqxliosn0574NCEKM7nFp7gS\n",
              "AbD23IH1O16VE+1m5JwoPJIf/IYYh6CEt5Neq7tRhQcWIwHJqpITmVAbe2yAzh9Oz4xbdgrTX2T4\n",
              "q6mV3dtTn12Prx5oxCx9dvSB9jkDejPYPaaZVwUfY11pYlll0YQtly0Zm9WrP5cC4c7NkzjKtK40\n",
              "Ibff8CjVBVPTxESu9xsZvY+jOduxn061QWn3hty6BB/NfcsNSwggwOswbadrqnHuMMckXP5NHZSg\n",
              "ls6TdMXSphFSWTD+QGKUfD9tSvyXXfrJuoIZ/sgu3CZQCiI58yyRTcLxH+iBk62E33Dwhj+WS0iW\n",
              "vSrE8f5CocWaNZLI27QkX110sDbXYX3aCDXDYptggjMjNqAVRh9TEuAqwrZhVJpcTXrcxvkqWvkY\n",
              "odOTGGJb3eulw202U3qsYtEJBZ0GVJnHlrXD099bCYOjRkJyo9a1C41752UpC8+PUZnV2ZkiYGUA\n",
              "AAG7AZ9vakP/AAJ8umazyzCOXu3V0BrObu9yAE02U5AU99sNZiIB5e/u+Su35k917J43GIGPEv9m\n",
              "1LFrXSUBRDDpT2Cbjopb9lqdG1c+raCmOtdlxdNMl/fs8EfxfFix/29wsCMT4YnNMV5ZHqZLEPDf\n",
              "LYunJcqK8D/5HUfwwwPuVbWWb2zdN/iDR3OiqHitiLWIMQ/szBHkWt1tzDJ3iTboKRgmlalzuTVh\n",
              "lF0zV6K9eVe42ZdWjPBuKMkXhVeKYOh/m/3cNZKHMFeamZplLeIZAYaF+2sf2Zm/I6d+LzJQXi1L\n",
              "O32zJp6EhBfVT4PWW88XxB7heepxFbDleODijUD9u5GrZRA8+9FAsnH22PwbHV1fDbkwzeydz0mZ\n",
              "w0QUtz6h+F5xcLrdFtnsy+xZq38zLK+t1LbAzpvkahlYn7XksTKme6PHtNhxqaommUwsgwOcwz+I\n",
              "RAV3T+rIOLac5revBUSuY8qlAjBNXiOOHfZjNyZr1mSQTcs99knYi6MwzmOyuz6/kgYYnWWAmeX0\n",
              "kvqAu6o4aj3pE2+zeerIYbrmgeakmNdljL5QzPsD+hFVqsoj5DrTD4LVBlc3uEcAAAP1QZtxSahB\n",
              "aJlMCCf//rUqgADjnRmGv70AGjo/EpkLhFamiR8C9ZmIdom63yHFYpHk31/OcqIiDx5Cz9dVx3CR\n",
              "GTH3rDylSd3zQs1uKs6B0Akon+jir0ekzbVCqiqlWK2k+KfEYQm6QtV+Xq5PYBgL62GbeT917BYz\n",
              "otaCllq8nFrd1OWKNy2Hcs7HfUiKm5E/LO4Xs1D8ew8jhdTc/spdi6L424fATU38YnEpPMpo5xP6\n",
              "l+1ACbqQEkOiYK/Uyr25TQMRJ0pXLOpsv6NOIwOMT/xQ1sjFOnNwd8lIULPAxMQlB30TZkGkMYuv\n",
              "FEOi50oxzNhKyM9L332UTUFl8l4IO9V6EIZDZyhtK7pSdnmjUXYM6lUntJR67T7T69xGRuxrj4C8\n",
              "6nyykMiPuB0Gb1jrzEqrgeoibtRbbMjPPriRfq4VNbFI0BtNnySTkyU/2oq5lhZsYLlVGHYuGPaq\n",
              "PkGPoUhQ25QvPq0F6jiTON1vQAkqRKZtBmEX6PxTFClBoimx1AatEXoqyM/8jAYP4NUuuJiqBAc6\n",
              "p7BXJm36T2jWt2f16Ni+kbyEWP3V5CIV5GaSesFTJvMvW+F7+63tLsyroLGljIJRwtZStV4nhKPB\n",
              "122MhXkq7CMDZz3kVy60nQhm92h5+ESAavTgkNetBc51v6a3m5aF8zNE45T1pH58X55eZpbOF7iV\n",
              "WXODWZVuxENRzlC3i9i+TC2wKBd4zmin6GVWWY15HKHu6TECWrtJ45k4nRufiq/r3wDoOrR/8xUz\n",
              "4QucOJ7Zhl+NVk8Gd4+hBptc//Ywd8pGZOBBqE0KceOcnT7qpt8++7xRZscjlr0F9l+Lg0l2cCFg\n",
              "7t7y5BefDQny0CM8QQq67rNgPPKl7qvSVYhaCZMCGlgLypP+LJ8YFAXSNNYo4h1gTJCnjmW9WAkK\n",
              "mRbs1xaJTgQZ7T157BpmBU7kBNAnksvX3GOohaIsddKh0CYo9URm5X/VgwYPnXLLcaWkBIRdqG17\n",
              "RqPgg2lhWBroSmKmcDzbMTLPXwtu4CXil/shY6S9Ms6uEi+502TXYaBrp/JaBz74UeG4gLV+8Heh\n",
              "o6li7oXrfTuIsBFtWQ28CLdJVADmiMejXSiwvM3hpixMfLFoAYElaG347if1YK2MLq2qCHjbE2Bh\n",
              "aERmQb+HKjT9O20eNzwewtQajJrz/VuEwKiMgcdf+MIlWiulZhXeeObPYqBbBHcRKuyF7+F5Z8hU\n",
              "tKyBp1Iqp/zrp9dKRQKJLry+zk1i68ANt7ogCQT1lvDDgowPgPTIGVmKnTpzwfgEzF4CupfTzWdc\n",
              "S+tyTnIv3Pp9L2I2RtvREvWrHICbj0Fbrp1XhL0bhYdS3tQIzgkAAAVBQZuUSeEKUmUwIJ///rUq\n",
              "gADjp/ZgATOvM3+ndbrv/6uq89zMCksO/W3TyP1VjZlmVhL7vTXY5zD7tJ5m65bK2LzyuIT3Tbk7\n",
              "ekrGSd4mnA/mdgkjeF9yLXxwUr3GH9tr+I1l9++cwH2PD1S1/oD3KoZ0Bny7GEdO1dzAwvclicXK\n",
              "zpA0VtscbTWU/BdKz0BMr7kptvJ6dyBqYXmNW5rHZL7P6CP/YrGSuw0NNGCbrZE7JI0f2KCaPvE5\n",
              "2D5GqNVGvA7xTjFdB8CfxtDpn1eEhWvvDxbeQaN1nCmROzjJynjgnGkYMzvMevcPMtKz1ogJSMcc\n",
              "tA+hnRP6QROl6rv1WpuPg7GpjGn1JO/Z4fhFbeGyST4j1AFCe4HszMcquQ0f4Z9LsTHCVTSh3Y94\n",
              "PiNHjwJq2TBn8cHD/s2ofON+AuXl5VpDJ7V6pjVucpowDrv6L6q3JBxe10LoSke4Y6apAxFfSOqo\n",
              "6DzQXmyZxRIeoKxjpidHruqMrmNegVlYNZGUfyiIVkc4N6Vdq1L2cQytq+Q651giSX2NA6mvmXka\n",
              "XUimP4SrQ8sx1LwyX2nOxajreokiBQff8BVlEPyFopRJv27UJo29w7A641D+h+jzeI4uGWjZy7g6\n",
              "93TzEdUFax89uJFSS2mI/euO6+2Ntw5fGoWf/sEdSL+/Zao8SAWYAzFEJ/3Z6en/+33pwLamiJHE\n",
              "BvSs7U0InHyBqOqX4FnOoN9eZ46RA515JeXg5Bil4qrhpcjtzp2AwVpj+4/eVyh1KDF8j99IrGcG\n",
              "buS7Wexl/u4ioKZ8+RkFOXHIwd+2ibdPn2UHIXL7rBR8lDVASpSpVONgWrT/9GHZoWV4dorK6EJt\n",
              "aOQ0fdnepiP/IMgsPnItQFhiyQlFw5kC2P5q/9JhI+2aK3IXVH3gOTTyKcp0zpg3Okwt4hEFOAqU\n",
              "ijw6x9Nc6f5sD9ooXURHkhg7cuIdlUyxgGA1Lcx0yfKorBdcF2xfK2f0PzIbglcfQvZ2tB/0EKdF\n",
              "UGqL1NWR0vGWSSTlCU3oPMB/xCRMmWYN5j5x2kt+SH1IC/BIdTmklODoVTe+QyMP+H40kLLvtqVM\n",
              "Lasc/hQVUzW5syLvF3VkMxPGo8OLS/d9ENX5Scy66hXgSIOqr7hhbmOf2bVtBpyYcVoDBahm8wov\n",
              "jV1IMUD8Dy/mrG9ae0nmpEe/wAYr3/xHVh5qAAamc3d2eigxuvPmyftyKlxHlHVDDHpzWHE38c6n\n",
              "hb96YFfOujXgboOrc6J8T0+Sz0cQ1zIi/faTbWSm/tc1eOQ4hoTz+9J6DqBXnOkwt8K+2AxDrdJt\n",
              "vJyGfJ8nxzgfJ/npaNBMMVL+4twl5rheuCtVxpaF0AxkzqldRlT7zFw6ud2j0LZGR7wj/G1+kpPD\n",
              "CWft3T3zryP4lg2I08ACUL4RceEg81BE+S+wN2D9Q+ypps12vZOGJ6PdaRj9hgXjlKz76wwm9wAe\n",
              "+MrLFjCs9DxndvglL3zxnl9XyPrFmNmcIjG2ZaYDNjKrgR9CSbuHbkV1F8Or9x5C+oZGKNFh19Yi\n",
              "Tvwi4QG5zElPdRnt52jGoLhRLDwKwBFxLZh8yFdqQGsr3jxkkM2Eft80bwVRGuEPE2JMggrrJccE\n",
              "Sc5N4icHmg9t5weL3AxyoQ48GvFYCjg8vlRYn/FgLa0rjQfnzemFmt9lCFl0uR1Iu1wuA9TwuUUV\n",
              "pBhsIrzMqEjjYt+kCbETSCvnMvwVq9AO66jKDAaptsoyMsbvXOEpvn4ag4bDppNa6sTNuA7WuC7F\n",
              "CRbt68XnpVWgpgimn/XjLYoS+QAAAbdBn7JFNEwQ/wABGcJdaz784MACIPnu2Lea9vPF+dFmtNSk\n",
              "uLgqzmmSdf1UBHMag/jp7NkEwu6PkYncujvGBGvHdrUx5FkUxI5yJOf+rRTCTXHzzPM9UL7G7drX\n",
              "sOKK7rcqJbe8HwQzTYCw7aOc3GGhT/R0lpbWbwRrJxMv1lijb88Z7wCcU1NZi8qAoRmjehsePyH6\n",
              "BaSwWcISxzKvK3UxsrdP7Ey48TJgvi58rzATPk0aa7RvJZDrYW+ymdmSbAmFjCIq4SBRL2o8Ugbt\n",
              "6/x0QPHiSCVm6/3shOZPAUR2Ffg7rofdepZezEsfBtjB2q8ensYvKrY0egt8Z0ThU/Bx92yPW/os\n",
              "StdP4/BJw6AYK2lnNDE+qVYhnpIW6v0NfUJ0OsM/e2iVe7DdQaltNux6ofDoRly80wn521UGzNE7\n",
              "zYgFPLcZgzhz93KvW0T7qEp1W87TI2PiVLwIzPnFbKvW6HjRBAoVwvfzHgJkm+aRSv2uo3RsGtFP\n",
              "tYTbBrW0o/K/PjIFwx265c572IzgyF4x7bh7wNFmxPODUab6tm8z0dEMbfDFaM4EcugTy+wS2jNl\n",
              "772lC176AAABQQGf02pD/wACc7ZFYVhjKAAmZLIZsyJh2t+FV9xUFkb1Hdc3wKsj6OjWh6XFIQkv\n",
              "OJ1b9hqVHKTUlUbcJNCLNOYTegcmv0Uw4dMKB9Vq+chtZYSpDZ3/mSYtmbhK+bIT4wg76auU3WXn\n",
              "HDnwdI9uAziLeYIGoOlKjgnwc0J6u5EZT5SLXoPexTpEAr3sNBPXH8nYzo6fFHAZfqCjegUP94e1\n",
              "1Cf9K+jd1hQ47SLNuwoS0NfCqroiZ68MSd7spXsJGOubttQBQrqiaxe42+WPacfmHT/EP3fybq0B\n",
              "4AGivrijV/Eca5QBpIqchfRrm9pkox4818Qc4x+qw7b1/mhbEPA9QWtuQgaXn/0zTLHpCgO55Cn3\n",
              "wdlx6Z1b6j6n+c3Mz86llSf0bC7ytVJPEjx9zzfnwZcgxVCUQMb2mWENHWc6gAAAA7BBm9VJqEFo\n",
              "mUwIJ//+tSqAAOOb1FpEgAWlLScdQ+EHyynlMjo4r7dffy7yqDuo7dpHdzO8Viai+jefeAP7QIeb\n",
              "IDUwAsxHhcdD4aZzYxs3hEnhmonsety3mrYQVHuauceVzyMVnVpmPEWw8qTSsgtgoG6SBR/lgpUs\n",
              "QJoYOqtdkkRctGha1+RHFBXivXDqo4GjrayhvzRbM+FDIkMTcY/vtPh+IgBGAWPYqMM/RqmigehY\n",
              "avkr2mJpozxrNcKY1+iziV+oorMgvCaQ7bSZdduUMpacUS2F82VJmNP0a7/Slw23/WYJZjp7tidM\n",
              "48JI05sVNmokSjWQ4Dlr8GXmMAqsTj9o53BMtb2WcwNP3KH/tOptnyMQmFduwnN5BAfy6E6SE3dX\n",
              "C7ScKCXIroX1Gw9Zd/+SnsVEdeoSCuzY9/bISE6ghymyt13YOmI8vG8+BXuxhUpTSPlMHfmsIfKy\n",
              "/Y9Pucao/9PiRyYd4T35GL91EnAiayplgiuxleVkld9+Z1tAtcPbu88GO4dSTESlspYcWULbd0Ql\n",
              "QGL0uAyUUYFnU/tAlsYCvgEaoN/X1DsgNhtGJMlhOlvZ3XfrNonhdhDoSeH9G+xs9etvw+izu3p3\n",
              "18cDzJcg2Y3coTZ1B2K49c+Mck45jNLPyg5zLiWG0Urp/aUK8DgliRYyXKnjww8wbhK+HLLi+vxq\n",
              "+KVCC4amRQq6BteXXWN1SNyULQre//TCk2MzfuMbBgh504CeYzeMJpnKFvXhH6I4SquRAcEhjkj1\n",
              "4NvWVTVhIQUICL/gtFw24UqjglqclhHMZ55up4aQqJWjIh7LlX8MP+BwY0XqhAwv7f3vMuiKTuyg\n",
              "uYBCjaGGnO4h5UgAdf2NWu34uKMnkRiTLHcXkERmnpsA/zAw8wAqw5MgluZsHgXbhMHd/nafYzX0\n",
              "YnR7JZcIBjgl4tT8TfW+8YbP1t/DIWWeKrdunSeN6xbeMHw3bocHX/ivRsXbiyaUOAsnbz5XMm/p\n",
              "o/jbN6wsL0QdI75InJzBLdJfVgt3dMD8jUdfMUeyIKtUbtIhqoLLniSHPv6P/ZAdo5L0HwZZx0lH\n",
              "HzUJC6YqA26c8o429lsSz3rhtZAqFBy/e4i3yl0Zun7XlGOQ9Ac5hmBszjg4+cw1/VbhhATl/CUi\n",
              "GoXDOnAji4gA27XQiSrQiqIeGNU8DR71S0gjArIyfIt039dywLGGDNd9OD7Hw1atiE3Ri4BmH32f\n",
              "cCxaetAHeX7LNLyJfpgcLQce+RXL0QNC7wAABIpBm/dJ4QpSZTBREsFP/taMsAA6SHUVD9IAN23R\n",
              "AtW9R7tPI3nyI7B0yfjNkaX1/YIj88NEOgxatCUjAcm+UTFjwXHmn1Lm3issFtv6ImhMfcK7+M/b\n",
              "ysJORyeZuYB9GJsVYf8CLOXd8a9lRZOE42aXymI2d7Xm4XZP8ha4oxE9CIn3oEURUhA5k2TunPoh\n",
              "UFsci3U650cdtG2JDowzeKXL6mfpvwoW0mYPTtxxaLoXq4kU9ypkGrizsnXQwEMohLa2Y/twnCWn\n",
              "WtooutEvuQv2W4g0LwospRhdzYG/UgOTldP9Y9THVWs9ov+buiTi8X6r7DS8sETHqVOKUKfifLti\n",
              "MMwfPemavhRKDw+F6HvymDC3J2ItF1DJgP4DY+cwzoxT1FLLXKAp44gQkJg4a/xnIefui9DUbK4F\n",
              "RHDdrLYK8vCWrQUgWDVQpURskYHnvvVlAa0+JtelhVlLR6cmuQxoOMUz4ynLxvZKAVYjZ2lEkUyU\n",
              "jEAo+jkzmlzZA5jsIHiDJuYVbJRbZuleIMNJaT28C7q96rS4jb9HnrXEJQjlvFo0iucxrBSnsL0z\n",
              "iBhc/Ki94kZJRkuudHIa4d5P+bJgJ0ghkiJWSnS/GXMQInRZ/2aQ6+N5GMQxU4s0AD/HJ+Qnyh+v\n",
              "gk2dUItMIz7IfdK4M4gnGnFbC7XAihTzXPcJ2KzwUqRKvx7P6aVukJdPtbKcwlXNw0gONa48HPXW\n",
              "vs12DJP99L1a9GRfgYgCrRTaouHqImG85W2r/a7x7hPd7soDxWKC3L3fe6mkUEZWxTkECJuyZcdI\n",
              "kUK1kEFygqlfbbeCmYT06JHmUg7ALhddD+EIPslYpG8JcETblRLlrHjEksiRbxCYiQnJBguUNUk7\n",
              "lS3UmKTeJg9WR8y9Ci8xw9an4d2QGRfT6ckTVxP2myWhkaM+TOWYB+jYHX+8hH24h6vuPpxIRp8Z\n",
              "sY8hJvdnBQamVY2wprdSGS1z2YYp/lhlD6KhUkX43PcK3jEvvV409wjvz9imHQ6lCg06lypiFemu\n",
              "KIkVl+DFzBwngctrrlCN13M2TgU1qHBMlhQf+6zLORipOkdMoazAVqBMBSqz4HlsY/j8C8Owr/RC\n",
              "yFGNACq6evZL7opz5pIlqidAkbgF7JP2fxlVUZn5X2nPAZTxQ8CkKQi8s2x0fhF1q8H6D8A3PMm1\n",
              "Nn+MuQMfEyO7wJQ8/1UpeJnUWclOm+mQ5wEMxGJF5FVS4Z3PKVoUyZh4pBV3kJB0SGi3Ni8fVFHl\n",
              "quwfJrPyHk6YooQ2+rjylCHpQEdUmNeuh6c/d5guIb75+0dEANlYI05Nu2PwKr0PkvHjj2BlZbMm\n",
              "qNELy5lF3+dbsjsAk3ivrvfkF1LDpFhwu/ltkWdMMmuueTcLbiDl2pd3DxFvkM9jJ9SUEi/Fhr0+\n",
              "Doph/OcTJQeR+S0PybBDKjwCozJlflGv3InGxPjiNRXMLg9JM+Zdxdnijp3Ff6yTbH0MfvPCKxY1\n",
              "ahIl5g7eCqBXSOGIvM1NWV3PMJurBOf4qhlBKjza0vIIBValZ4XGzp+S23MWa4W/5TuAAAAAzAGe\n",
              "FmpD/wACc2HnTVqgAmyvLsjRvGvnNYWnM97RGw/oyGxWKjHwL+wYcgBouS159/L3HLdqTN6inpi/\n",
              "joP4GHBDsqslDbqM/HYzs3iOY9mNTvQnkp/nRzyj+gfIz390SW4DMrBndu5UEkT0E7mtt8Z5VE2n\n",
              "mC3kfmURXy/uW+FFS/8qsNba+81am4fRGptFxtHOXJCs4R/oZXgPROJrfBM6tDC1SKGwRCpizD4v\n",
              "YLBxkrPJeXNIWxoSr+wopRM4UzUJswGvrcKj5Q0dcQAABVlBmhtJ4Q6JlMCCn/7WjLAAOkex2Q0r\n",
              "zzvUAHGt8QdHOAFEOE1jSiDX7DwHiDSqg5Li10fH1cFL/9xHcMCnVfniBPXZKFVf8+LeD9iOUgFN\n",
              "jI7zYhB//0gWhE4bq184ax1UQjottpiZBw+n/klcoaMWoBooy5gR6HaOm962f4n4nsAt9Z6KHcZT\n",
              "QDq3ltfG2/02TZ24fa4UeKvW1sn0xjuJbAgCXqf+bPd8qPRYvdqVIuaEl7baPZi1U9+CVJCa6K4H\n",
              "U2AiOJHKYQr03m21g+hpbpkjKgI7sp6T800PN0bHhvRX3DCqfjHFfoHVq4Lvnrin1YpOqk1qGgqa\n",
              "+tEpg0H8DtE6oEOkzBKYpIKDvgJkXSYHSLv+0dbx34lU0aZu4gHiQ/lT5dl0uOXgMfiDRzDVTj9D\n",
              "Sg5f5uOYPGC9u5frvggmq/Qu1mETZMAXf9Ao8WheVclxm5r6PRiSRNXLQ57V3VpLtdXTKidRjk/W\n",
              "9mC1Wjeldhm+Z1KprjVG/mewi3HIUZU9OOhvIDoSwPa9HWOYUxb1daKcyN9IZAXs84NwC/Xrus50\n",
              "owwkWivyF/J0RwNM7TK4tpjXDVH5rXcVmgYmi8o4WdZDpt6b+BTpEHMmZ+8T2Nz1ifCeMrA0wxh4\n",
              "4tYJswHc9C4DY+KTii8AOEqm8PZW2TbC1CuhfUs4fvZ3k+s8zF5mT43psIdO1Yc9Y3cTPieSWqro\n",
              "w+wkxza/X91C5sG1E2RBPm+9Hi93JjtaJIQrck7ZPnIvN+7QxyuCXxhXUBrfGzzXOHO59PHyQE48\n",
              "9EkO7c8ei/2wvUkV/bEuMji4SmR789omupCibSZeMWXHvEt6Hl6LmM0Qz/56sYEeEk8A0Sj93x80\n",
              "O6IpytKv2SwJMdN1oI6ne0k6joCf7JO+6fhHzfbRgG+WDFeMdXJ5xtP3cf97kfNlgsqtwaYfFes9\n",
              "52Ed6fVdbXqV7giP5oC+EHUMZndKl7Y1Aio/wGW+FgIIkf8TeHhuEhVHhblnpYxC1JcGQ08VNIe8\n",
              "sWOekQkowJojUivhwAMqpZu6D2c8Kvp/xsRiNCzZe/Ig0quR1KxlZX6+tycoMIpXFAlIzF1JiJPV\n",
              "QYIOZjGQr+euSqF0qLVFFb7gMvRjIzIaDYYL/TJpymIoEgcUTuvfUyCQF7JptNd95ae24ecJEJtS\n",
              "gMkGQLHVK/PSdMSXAOX7mpfX09iDspeCSSlBljSF4oXgc/MYrJHFyOyCPCSQtj7mBDhYtqfHjLvw\n",
              "GHANt9IspxviqQz+3Y5VxxqBP8z/sYZl4Mn8kKTwi2Eub/l5gdgAAnfjaD7m4B/0FPscSHhoQPS1\n",
              "oR5b0BAd4RMH5syw8Xng+ZzXBsC6rmKyGleVqsNYyMRDGR6swhHqGnNk06xmYLSDSiw76i9KZtPe\n",
              "ucb3hxqp6b2760W/2vRzccxvVorR4kz86uZ6fzdZf4jjgDk5h9YozEEQM2gAr7qmWXLxA6rhDKlp\n",
              "0NqQi4Lou6+pa5CgJAbD6nQu5obKwZgsjsZ/AYjAkP/zFxEJtlZp4FqBsZdz5zNzkos4UWeiK2pB\n",
              "zSEb4paF+7Lr7zl+LOPe0krHy2ND+0NJzDhJmKNZICqtHjMCtIV6NjeZ5lwlssDdQ0czQ5ghtuez\n",
              "uNMU2I2kwW84eHlL1BZNCG82uZVARHgUXzU2c8G9kh+kWb2v6ByKn5Gzj8PUpUmECcyd3gBZWhgo\n",
              "G99bOTwOmE5h3W1YEh8JtGlXkuiOBPo6iIZ0860YQzthySq5ajL9SQKMaBZNb3S2H3GUA4YKOzyt\n",
              "lRXpar6ZszGAjIOJ8jw0mExYlkDQnPlPOJPqFJ62YiCkzbWRAAABWkGeOUUVPBD/AAEZmo9Z0rOs\n",
              "xIAWx82fIva599H9ahhsjq+mkIlrj/+f4QENLer1bJW7ClFbM1jYWru2ytEIRaKEk2sRoxD/h6jg\n",
              "79UzpxCT7sBLL5gCIslnoAN0teoOwFczDXAovhuqZIb97xMWlNVM/eMmUDlhGF0n88RBSLAA6I5+\n",
              "e3izfN4pzJhmJ5W2upaP4wZ0/BtRUlPEF20CkDwP9rAoK0Yky6N/ca6MCW9TDCQpfxZGyf3vrLF7\n",
              "Om1gG2lu3mT5Sd53qS9VmmLmzAKkuUXdL9rjSa2q+aSHaP/kmwbqvybw6f3NU1Sl46fu2UtjyzDK\n",
              "KnIaMoyvwYIlogH8UPDZAOfkeZDQbSXD5+Zk6eDtUqynGcsAU9l9ALOYldqZj+kSqd5+SclwJk0Z\n",
              "7sc+YiYXc9DfCi/jw7iREyq6QStez7VaeysPXK5viLfTutdOK1lMJNma/mAAAACfAZ5YdEP/AAJ+\n",
              "IuACawvz8qMXcmzGDFOOfcUh2cKJ7ybFnff+T+/YDC602UQ1F/O9RZtFlhF74BY3PliW2eFxsJ7J\n",
              "GPu8yK28qCRHrxc9jm1QBqGGF0opfTzmwUaXVhPpMCIZ2+VD4dpQfvCDs4zmtmwIMOuh0dII+0NX\n",
              "3bbaM+gYa6f7kCLPihi14OMRDKECkE0gs6OXnKWqKPbejPt3AAAAawGeWmpD/wACc7VhqAdAB4mZ\n",
              "45nOMnATDTBiBXVQ/n9lHhPS0hvNuR7fyGqRJdhOom7gMMJnqLp5Z6cHGOHmW1CC6g8RmfeNxKFf\n",
              "tORlh2u28f3p6O5i3j4feQDDxWgukCp1yJo33H1bR6BAAAAEVUGaX0moQWiZTAgn//61KoAA45v0\n",
              "JeXD6gAiVQNSHnDhTQXIB+h1wCdnXQCAnxIyzz+Xcdh4zaJuCbW/Y97MNq7NpbY0gq0OP1vr2w8Y\n",
              "B913CaDysrqNtXRxG0e7WaHWqX55eAMNE7adT87FVY2SY5py8VQVLA2ra7nper1mOOYI/rsKapJO\n",
              "2l8FIWBHlFKVfA4QzNy9250GQKayHSabBZ21yZHByJh681JIzydlV2cBqmDLo4wISeLbBHsxJaVU\n",
              "myWJ4uUgKQrDYI69yVG0gf/Bb7j1UkkYn8Gg/nqFIEEIs7W0U1tlk6uPVu08OExU8k3Yo7webk+d\n",
              "PlFuev9BoxI1ZizCmjiOSlwwEZo12VqcGSdBGFpUFDyzcI5Abzls4tHua4eRe6+i9P9tMa3TxDBG\n",
              "XHIHihJpLWiHMAK6vFGpxT8BVVkbZXl2Ta5NcEm/zpebluEK4v3oH2gIgpMHRH5Zfp2JMzKf+nTi\n",
              "JpAcII9Wi8ttFynbj1uQlzox4ka8aOfgjoZOIff5/3aACbszpjHFCMaszVTwoU14AZ/Iyo+T/h8S\n",
              "CneK0sJmT0/XEu+YdutTQeFmPxa94s2zxixE9pi4hH4kJ73lZGd1dOa1xq7HDXxPr+TW0k4IYHhw\n",
              "7p36LBCRmlL4V6FPK/MlD4wsa0DLsaihgPCywdc0vWuL1qneAseNgxT20dEWB7/AQLuNAC/M+kKg\n",
              "TPwYeePw19/s4GUeBpt9MqI0FLZrFOcvjkK2xHLtCBn6avtEpAaWgYuEoTSDTXdykpDjMcHlmufC\n",
              "Ec2dltbfXxUPFQH43z6O7kAAmVzTnR2f1Xk/CF/xL8a45fZNkuNj/yE54hRkeDHMOFqPBPfu0Ejh\n",
              "22gt9gTchkD/2aejQkDnAESvALe228zc+jBMFlX4m3YHk9Sy92TYeLRjwIuXaDfLIWMxlMhwnuCE\n",
              "i9em807dXsfeFegTdRbppAyUJ/AbmHXGU8h0a3xIoAxb6SljxpGuKeL2o1pg3/6v2RBgVDCjgzt3\n",
              "O+ANs3x2i2UQNSTFODJs6pcDvYbw5SKl7q7sWS5iip5eN6UaJaX8GfINFymBhAs0pG5a5FSAoKDH\n",
              "ylmnwHxXXLQowiEIAybiUwX0CRFBaVrTrvSqGrqhjXgWi99C2EeZ005Pe4EFJypeZcl0idHLIKsC\n",
              "UsD52Gf0nrMgZJiloFZQOkgZuWCYryH12OSeT9k6kUxAaWytvaB08mo9dupmnJ3WdVdMWNwR6Y7T\n",
              "EEnJkw8sSthObs4MrIdng8/UrdPXCV+k1pxHhb0ZjM7vW+w+OhfuuC9z/VhKM6bizVJNR43YuWzp\n",
              "lAVJeIKtuB8BufIt55o0gmSGCZO8SzngC5MUfZeHtZKOfdYKlAA9BMxV5uy9TZXOkvQJkIlmgwuR\n",
              "246goBE3AYdEYyAHbYehfWyEjI+BJsnyF6hiKFhvqygF+bU+7/ZqWPOKK6RQUPomn9j+WoZ6jOaj\n",
              "cOMrVdNBAAAAsUGefUURLBD/AAEe54AAlmjPZ4Y7jssQs9HHjRaAar629dkN9xQ8epf3n7f5w+TK\n",
              "TCgOR7jBA/smOB64xfpuQQUG3dGO2CPphjYvA4gTc4z4kc1dZCxeAazxwJtZP0tYHWUu5611hlHg\n",
              "bpqfuLMrjo7tR7j+7LzYDumYgiPSQYIp1LZOpPGKZ3RD41ov628o4eqyjcXpGSALlS08qMQ6td6v\n",
              "dqIxQS3RCsDKm7BakltHmQAAAEIBnpx0Q/8AAPLXyNbCD2euOMKLEztCn6jOB/CB19/4QAmhIEKB\n",
              "IoF7EWQW6uhupKN6HWqsYR7RcFJDotC+cWlKumAAAAAbAZ6eakP/AADy9kK+1KptbKFIv5C6Di/O\n",
              "iF37AAADN0Gag0moQWyZTAgn//61KoAA45ye7vXrYcAEY1i1m7DibcqSpWXLgktxGFO/e5zsNsw7\n",
              "i19Hf/L1Ve6uLEmTF/zVrd+ZrteH4nIFY73ZpXkyXlXvtc/hwTcErnjDq7gh40abLqxdmqQWHkWk\n",
              "svTpYcRr96rlSPzd9N7r1ezLY9EIrxWmUAImhU/wTszb5jtrA/zpwk+whT01TgxosUOVbVwueG1v\n",
              "crqtPQQNDy5xqcfFqdqzBmH43JqDnIlHn6nNu6X9G7UWUeVKZOFisUVVsGvV1iKkNWmxmkCouZGm\n",
              "DCWZaipI3sexu1Ukxyx5/6X2ZweRiGDSjNjYklOX/jz6uH8gRPBmweWA7kMlKlMOZu2nu67t/KvO\n",
              "UEAHSSCA64tas2q2NsidotCBQWN+xNZMOdC0ua6OXpYazjB3BgdGHgFxjqr4+KLNTp9UZADP9aMk\n",
              "3PdFYoz6S8om9OuWlcbx6soHJ9rw1BozZHwZ29HKAO4k+JMDvA2NFlLbvZl5gNjn3jqbi/XXDx+3\n",
              "lJ6Ff5OUtvXcaZKOP3qynuEUZZJsTKWniPFE531jMEqziiycPNSkuqV97XRqJOtI3nIPoD0xtsrV\n",
              "eUzFveBpHo+K+McuaqZoxc8ECcA0sPwagc8ebF/yXku8Tnb8lxMrjyjv2E7pJDKa9M4+NI4uUcH6\n",
              "eP9Nbw52cGGotA91ZogjfVTt2GlYNaLRl9VfbKSM4q2S6cGB6T+UrHhNOkwxuWB6N9DCvIbll93L\n",
              "J3qPovBZXUNO3lqiqF3I0h4iE/nIYfbTUyl0gQ7nKwB6F1EG26E+kL8uwkeLwGBP2ilC0HwSnFaw\n",
              "mN0fcNkBIIwAickkYIitLQ5gXja1MZuFM/f7KQLvZ94l8dmvfrXQsNv83Ug+nkxV3k15CkccBXaM\n",
              "xF7ez7l5RUx1UxO2VkLpUkQp/NPbIF1oyKql/rrYl1hSmsTO4j9h7Nc/VOSQx8/399nzEQz4iNr1\n",
              "p2AjTfr1Zrgjer1iYP3ExbJbhGlqe6kkPBjmVvk7ZuQA2m6JTiIHS+tY3g4FAZtfnt3d14nVsTeP\n",
              "CcQvhoyO6tOju/COdOJXkhtz+wf2++lO6Syi1wlo9dUAAABEQZ6hRRUsEP8AAG51TTFqTA6wFoPn\n",
              "xsA/QALf56li+NCeSXkLBX+0gAfnU/VEhqLBBzWYpsobCVExIgbRsjH44D32boAAAAAYAZ7AdEP/\n",
              "AADy18jYIFnHpZozOKLCAW9FAAAAFAGewmpD/wAA8vZAlXrbswhQNP/zAAACEEGax0moQWyZTAgn\n",
              "//61KoAA45vll5AwAcbt32wDnSnEmZc2x7nn4dF8ZrUATNgkcDexB2GWHmjaB+PXpQyurttmc4H6\n",
              "6viALPHEdFg/uGFpzXwlARkrqIjf8AAoi/WW4w8ZqYIsZUcv7zFYDVoOWDIkaN6ewxBHftL8t+39\n",
              "PAeiX62ux8hLjva2z2C9R1eTzaOpPUgaSoBulvv7aDIqDStGsbhY/60W6nQ5yKEUwxXvlbP4nuOe\n",
              "7ItPg12E5AWbEavn3E0370l/9KO3vBQ8bRHZs3BRmHCm7K5S2T+gzoKw9yjtkok1cFT2rCYWU56b\n",
              "/mupzb/jTXn54uvG5bJdiRCKBlQvMjSJ9r7VkzMbKi5VzLU5B4k9YZB6RLvKzR53Wi3rOQqxZhBf\n",
              "prqXp2XpF6c9upfqdRvu92jqHklpoY45WHGMtU5WtVGPkVDEvXPhdzlQRS/FRFeYGhYnWY0D26ZO\n",
              "vTl/rNDaBoPftvoGsLsX+EhZmW5yFrPmPP8exAtuu39mviqdn4th4wOhN0S96DBlzPVoXepuAecv\n",
              "YfrvyGxdkcEzm0/EKCyCmSXT72G2MG22uL8muvJAJWRXSR2KkAdT36l1GKnWfqxH5VgCTRzI2VKE\n",
              "4KBmJt0+H4qfzuBz3Qm8fYwmzcBPPx0YtmHCQ8f/hSTA8pkDbsTXcOq6gDdUPzUiZfhzjFmXqKrh\n",
              "TMIC3QAAAB9BnuVFFSwQ/wAAbnVNMYMpur+gjf/R1ESP3NfbqSzhAAAAGgGfBHRD/wABNVy73YYx\n",
              "pIRSBzx6ZxS3JUPBAAAAFgGfBmpD/wABNWkYEsL31ArxAUvA7s0AAAF1QZsLSahBbJlMCCf//rUq\n",
              "gADjmzPegYALpw6pwoZB9rMvahtrSY2JBUhoZZQAay8qw/YVghkgDil4sp/UXKGkleA9681S/Mdf\n",
              "3rSu9fdaDwFXDPDZiK6QolmG1uTEIkQdbSFrZY0ffkoZmVssEwbRpD39clGZy1fBflbRCH0CKI3D\n",
              "u8z3I0g2D8h2j/KKlb7U1tC5tUg+/TH+Smgmrm/GF3dlX9gejI0nybjMRBXPnbHCf6has+1Zc1ug\n",
              "157aNy7AyT+6Jk2XbmjRZYtqEd5KMS+fTOf7uHTJAyTMMmPjyY/PkdYaGNmqAlvpLOApB8aSfMG0\n",
              "fJuKoPqTdD8ctZXahr+Ds0l5M3eIPtmfF/Jvrv+volUvgPSWY9jcBo2AhQxpsXzh54+g5soKOcn6\n",
              "bNQf05fTQRkusFnNqDeE0JMEZGbRvLA6U/mAxtdG1hoH1rhcClX3GI1mo8oHxN34Re7S1wRVu+2p\n",
              "/IkyB+QYCxvNz2qXcIZegAAAABdBnylFFSwQ/wAAbnVNMYMpsZZgugy9jgAAABIBn0h0Q/8AAPLX\n",
              "yNggWcek1LUAAAASAZ9KakP/AADy9kCVetuzCCtmAAAAnUGbT0moQWyZTAgj//61KoAA45Pwq2uA\n",
              "C6WPMcpx1WIWGdwwfHRgHhNWxKgY0d2ChCkKybXQPIRtOZrs1qp9f0nlCZl+zxbwhlkV8B+Ry0H+\n",
              "W43IYMiGsx07AUvqlBB+9oO4Zdp7A/fdvhMhvF62eommpr/4JWOawEpuz0YhPbyMBNY8lDyzJ73J\n",
              "Tspn24VquQcfvg/DIQg+12nDzTAAAAAaQZ9tRRUsEP8AAG51TTGDKbq/oI3/obQZ2w8AAAAWAZ+M\n",
              "dEP/AADy18jYIFnHpbs7Geu/2QAAABcBn45qQ/8AAPL2QJV63NfOc4fpNUJ6sQAAABZBm5FJqEFs\n",
              "mUwUTD///qmWAAADAPCAAAAAFwGfsGpD/wAA8wX4QBArYkUTqgm9rfAIAAAFbm1vb3YAAABsbXZo\n",
              "ZAAAAAAAAAAAAAAAAAAAA+gAACcQAAEAAAEAAAAAAAAAAAAAAAABAAAAAAAAAAAAAAAAAAAAAQAA\n",
              "AAAAAAAAAAAAAAAAQAAAAAAAAAAAAAAAAAAAAAAAAAAAAAAAAAAAAAAAAAIAAASYdHJhawAAAFx0\n",
              "a2hkAAAAAwAAAAAAAAAAAAAAAQAAAAAAACcQAAAAAAAAAAAAAAAAAAAAAAABAAAAAAAAAAAAAAAA\n",
              "AAAAAQAAAAAAAAAAAAAAAAAAQAAAAAGwAAABIAAAAAAAJGVkdHMAAAAcZWxzdAAAAAAAAAABAAAn\n",
              "EAAAEAAAAQAAAAAEEG1kaWEAAAAgbWRoZAAAAAAAAAAAAAAAAAAAKAAAAZAAVcQAAAAAAC1oZGxy\n",
              "AAAAAAAAAAB2aWRlAAAAAAAAAAAAAAAAVmlkZW9IYW5kbGVyAAAAA7ttaW5mAAAAFHZtaGQAAAAB\n",
              "AAAAAAAAAAAAAAAkZGluZgAAABxkcmVmAAAAAAAAAAEAAAAMdXJsIAAAAAEAAAN7c3RibAAAALNz\n",
              "dHNkAAAAAAAAAAEAAACjYXZjMQAAAAAAAAABAAAAAAAAAAAAAAAAAAAAAAGwASAASAAAAEgAAAAA\n",
              "AAAAAQAAAAAAAAAAAAAAAAAAAAAAAAAAAAAAAAAAAAAAAAAAABj//wAAADFhdmNDAWQAFf/hABhn\n",
              "ZAAVrNlBsJaEAAADAAQAAAMAKDxYtlgBAAZo6+PLIsAAAAAcdXVpZGtoQPJfJE/FujmlG88DI/MA\n",
              "AAAAAAAAGHN0dHMAAAAAAAAAAQAAADIAAAgAAAAAFHN0c3MAAAAAAAAAAQAAAAEAAAGIY3R0cwAA\n",
              "AAAAAAAvAAAAAQAAEAAAAAABAAAYAAAAAAEAAAgAAAAAAQAAGAAAAAABAAAIAAAAAAIAABAAAAAA\n",
              "AQAAKAAAAAABAAAQAAAAAAEAAAAAAAAAAQAACAAAAAACAAAQAAAAAAEAACgAAAAAAQAAEAAAAAAB\n",
              "AAAAAAAAAAEAAAgAAAAAAQAAEAAAAAABAAAgAAAAAAIAAAgAAAAAAQAAEAAAAAABAAAYAAAAAAEA\n",
              "AAgAAAAAAQAAKAAAAAABAAAQAAAAAAEAAAAAAAAAAQAACAAAAAABAAAoAAAAAAEAABAAAAAAAQAA\n",
              "AAAAAAABAAAIAAAAAAEAACgAAAAAAQAAEAAAAAABAAAAAAAAAAEAAAgAAAAAAQAAKAAAAAABAAAQ\n",
              "AAAAAAEAAAAAAAAAAQAACAAAAAABAAAoAAAAAAEAABAAAAAAAQAAAAAAAAABAAAIAAAAAAEAACgA\n",
              "AAAAAQAAEAAAAAABAAAAAAAAAAEAAAgAAAAAAQAAGAAAAAABAAAIAAAAABxzdHNjAAAAAAAAAAEA\n",
              "AAABAAAAMgAAAAEAAADcc3RzegAAAAAAAAAAAAAAMgAALLcAAAjOAAAE4QAABGgAAAPYAAADPwAA\n",
              "BIUAAAbjAAAEIwAAAskAAAKTAAAECAAABDwAAAdfAAADBQAAAiUAAAG/AAAD+QAABUUAAAG7AAAB\n",
              "RQAAA7QAAASOAAAA0AAABV0AAAFeAAAAowAAAG8AAARZAAAAtQAAAEYAAAAfAAADOwAAAEgAAAAc\n",
              "AAAAGAAAAhQAAAAjAAAAHgAAABoAAAF5AAAAGwAAABYAAAAWAAAAoQAAAB4AAAAaAAAAGwAAABoA\n",
              "AAAbAAAAFHN0Y28AAAAAAAAAAQAAACwAAABidWR0YQAAAFptZXRhAAAAAAAAACFoZGxyAAAAAAAA\n",
              "AABtZGlyYXBwbAAAAAAAAAAAAAAAAC1pbHN0AAAAJal0b28AAAAdZGF0YQAAAAEAAAAATGF2ZjU3\n",
              "LjgzLjEwMA==\n",
              "\">\n",
              "  Your browser does not support the video tag.\n",
              "</video>"
            ],
            "text/plain": [
              "<IPython.core.display.HTML object>"
            ]
          },
          "metadata": {
            "tags": []
          },
          "execution_count": 110
        },
        {
          "output_type": "display_data",
          "data": {
            "image/png": "[encoded data removed]",
            "text/plain": [
              "<Figure size 432x288 with 1 Axes>"
            ]
          },
          "metadata": {
            "tags": [],
            "needs_background": "light"
          }
        }
      ]
    },
    {
      "cell_type": "code",
      "metadata": {
        "id": "oLB7ZWmv1PQ7",
        "colab_type": "code",
        "colab": {
          "base_uri": "https://localhost:8080/",
          "height": 283
        },
        "outputId": "f9644515-a31f-4587-ff59-f275b8c40cc8"
      },
      "source": [
        "plt.scatter(x_train, y_train, color='b')\n",
        "plt.plot(x_train, (m * x_train + c) , color = 'r')"
      ],
      "execution_count": 111,
      "outputs": [
        {
          "output_type": "execute_result",
          "data": {
            "text/plain": [
              "[<matplotlib.lines.Line2D at 0x7fe17a999b70>]"
            ]
          },
          "metadata": {
            "tags": []
          },
          "execution_count": 111
        },
        {
          "output_type": "display_data",
          "data": {
            "image/png": "[encoded data removed]",
            "text/plain": [
              "<Figure size 432x288 with 1 Axes>"
            ]
          },
          "metadata": {
            "tags": [],
            "needs_background": "light"
          }
        }
      ]
    },
    {
      "cell_type": "code",
      "metadata": {
        "id": "lZETsNyo1PKK",
        "colab_type": "code",
        "colab": {
          "base_uri": "https://localhost:8080/",
          "height": 297
        },
        "outputId": "c926e227-7496-4e9f-92f1-4893b580d11c"
      },
      "source": [
        "plt.plot(np.arange(len(error_values)),error_values)\n",
        "plt.ylabel('Error')\n",
        "plt.xlabel('Iterations')\n"
      ],
      "execution_count": 112,
      "outputs": [
        {
          "output_type": "execute_result",
          "data": {
            "text/plain": [
              "Text(0.5, 0, 'Iterations')"
            ]
          },
          "metadata": {
            "tags": []
          },
          "execution_count": 112
        },
        {
          "output_type": "display_data",
          "data": {
            "image/png": "[encoded data removed]",
            "text/plain": [
              "<Figure size 432x288 with 1 Axes>"
            ]
          },
          "metadata": {
            "tags": [],
            "needs_background": "light"
          }
        }
      ]
    },
    {
      "cell_type": "code",
      "metadata": {
        "id": "423jFNsp1PEI",
        "colab_type": "code",
        "colab": {}
      },
      "source": [
        "predicted = (m * x_test) + c"
      ],
      "execution_count": 0,
      "outputs": []
    },
    {
      "cell_type": "code",
      "metadata": {
        "id": "wuZu4KPU1O-f",
        "colab_type": "code",
        "colab": {
          "base_uri": "https://localhost:8080/",
          "height": 35
        },
        "outputId": "6a6554b1-eaf3-429b-f2b6-cb4c618398d0"
      },
      "source": [
        "mean_squared_error(y_test,predicted)\n"
      ],
      "execution_count": 114,
      "outputs": [
        {
          "output_type": "execute_result",
          "data": {
            "text/plain": [
              "0.020744619715306216"
            ]
          },
          "metadata": {
            "tags": []
          },
          "execution_count": 114
        }
      ]
    },
    {
      "cell_type": "code",
      "metadata": {
        "id": "o-bKlAzS1O4z",
        "colab_type": "code",
        "colab": {
          "base_uri": "https://localhost:8080/",
          "height": 206
        },
        "outputId": "13e1304a-0b0f-4959-c690-33af488afdba"
      },
      "source": [
        "p = pd.DataFrame(list(zip(x_test, y_test,predicted)),columns=['x','target_y','predicted_y' ])\n",
        "\n",
        "p.head()"
      ],
      "execution_count": 115,
      "outputs": [
        {
          "output_type": "execute_result",
          "data": {
            "text/html": [
              "<div>\n",
              "<style scoped>\n",
              "    .dataframe tbody tr th:only-of-type {\n",
              "        vertical-align: middle;\n",
              "    }\n",
              "\n",
              "    .dataframe tbody tr th {\n",
              "        vertical-align: top;\n",
              "    }\n",
              "\n",
              "    .dataframe thead th {\n",
              "        text-align: right;\n",
              "    }\n",
              "</style>\n",
              "<table border=\"1\" class=\"dataframe\">\n",
              "  <thead>\n",
              "    <tr style=\"text-align: right;\">\n",
              "      <th></th>\n",
              "      <th>x</th>\n",
              "      <th>target_y</th>\n",
              "      <th>predicted_y</th>\n",
              "    </tr>\n",
              "  </thead>\n",
              "  <tbody>\n",
              "    <tr>\n",
              "      <th>0</th>\n",
              "      <td>[0.18515452538631344]</td>\n",
              "      <td>[0.38222222222222224]</td>\n",
              "      <td>[0.4819289894007866]</td>\n",
              "    </tr>\n",
              "    <tr>\n",
              "      <th>1</th>\n",
              "      <td>[0.2144039735099338]</td>\n",
              "      <td>[0.4444444444444445]</td>\n",
              "      <td>[0.45929348829135375]</td>\n",
              "    </tr>\n",
              "    <tr>\n",
              "      <th>2</th>\n",
              "      <td>[0.26903973509933776]</td>\n",
              "      <td>[0.39333333333333337]</td>\n",
              "      <td>[0.4170120805586396]</td>\n",
              "    </tr>\n",
              "    <tr>\n",
              "      <th>3</th>\n",
              "      <td>[0.4768211920529802]</td>\n",
              "      <td>[0.1711111111111111]</td>\n",
              "      <td>[0.25621460569634785]</td>\n",
              "    </tr>\n",
              "    <tr>\n",
              "      <th>4</th>\n",
              "      <td>[0.15480132450331124]</td>\n",
              "      <td>[0.39111111111111113]</td>\n",
              "      <td>[0.5054186603634055]</td>\n",
              "    </tr>\n",
              "  </tbody>\n",
              "</table>\n",
              "</div>"
            ],
            "text/plain": [
              "                       x               target_y            predicted_y\n",
              "0  [0.18515452538631344]  [0.38222222222222224]   [0.4819289894007866]\n",
              "1   [0.2144039735099338]   [0.4444444444444445]  [0.45929348829135375]\n",
              "2  [0.26903973509933776]  [0.39333333333333337]   [0.4170120805586396]\n",
              "3   [0.4768211920529802]   [0.1711111111111111]  [0.25621460569634785]\n",
              "4  [0.15480132450331124]  [0.39111111111111113]   [0.5054186603634055]"
            ]
          },
          "metadata": {
            "tags": []
          },
          "execution_count": 115
        }
      ]
    },
    {
      "cell_type": "code",
      "metadata": {
        "id": "2th510RD1Orh",
        "colab_type": "code",
        "colab": {
          "base_uri": "https://localhost:8080/",
          "height": 283
        },
        "outputId": "c8aa0453-3861-4b74-833a-d068cd309c46"
      },
      "source": [
        "plt.scatter(x_test , y_test, color='b')\n",
        "plt.plot(x_test, predicted, color='r')"
      ],
      "execution_count": 116,
      "outputs": [
        {
          "output_type": "execute_result",
          "data": {
            "text/plain": [
              "[<matplotlib.lines.Line2D at 0x7fe1789d9e80>]"
            ]
          },
          "metadata": {
            "tags": []
          },
          "execution_count": 116
        },
        {
          "output_type": "display_data",
          "data": {
            "image/png": "[encoded data removed]",
            "text/plain": [
              "<Figure size 432x288 with 1 Axes>"
            ]
          },
          "metadata": {
            "tags": [],
            "needs_background": "light"
          }
        }
      ]
    },
    {
      "cell_type": "code",
      "metadata": {
        "id": "2PZ8iT0FIW-2",
        "colab_type": "code",
        "colab": {
          "base_uri": "https://localhost:8080/",
          "height": 206
        },
        "outputId": "cd2643ae-5279-442d-bed3-dcfad5a46460"
      },
      "source": [
        "predicted = predicted.reshape(-1, 1)\n",
        "x_test = x_test.reshape(-1, 1)\n",
        "y_test = y_test.reshape(-1, 1)\n",
        "\n",
        "x_test_scaled = x_scaler.inverse_transform(x_test)\n",
        "y_test_scaled = y_scaler.inverse_transform(y_test)\n",
        "predicted_scaled = y_scaler.inverse_transform(predicted)\n",
        "\n",
        "x_test_scaled = x_test_scaled[:, -1]\n",
        "y_test_scaled = y_test_scaled[:, -1]\n",
        "predicted_scaled = predicted_scaled[:, -1]\n",
        "\n",
        "p = pd.DataFrame(list(zip(x_test_scaled, y_test_scaled, predicted_scaled)), columns=['x','target_y','predicted_y'])\n",
        "p = p.round(decimals= 2)\n",
        "p.head()\n"
      ],
      "execution_count": 117,
      "outputs": [
        {
          "output_type": "execute_result",
          "data": {
            "text/html": [
              "<div>\n",
              "<style scoped>\n",
              "    .dataframe tbody tr th:only-of-type {\n",
              "        vertical-align: middle;\n",
              "    }\n",
              "\n",
              "    .dataframe tbody tr th {\n",
              "        vertical-align: top;\n",
              "    }\n",
              "\n",
              "    .dataframe thead th {\n",
              "        text-align: right;\n",
              "    }\n",
              "</style>\n",
              "<table border=\"1\" class=\"dataframe\">\n",
              "  <thead>\n",
              "    <tr style=\"text-align: right;\">\n",
              "      <th></th>\n",
              "      <th>x</th>\n",
              "      <th>target_y</th>\n",
              "      <th>predicted_y</th>\n",
              "    </tr>\n",
              "  </thead>\n",
              "  <tbody>\n",
              "    <tr>\n",
              "      <th>0</th>\n",
              "      <td>8.44</td>\n",
              "      <td>22.2</td>\n",
              "      <td>26.69</td>\n",
              "    </tr>\n",
              "    <tr>\n",
              "      <th>1</th>\n",
              "      <td>9.50</td>\n",
              "      <td>25.0</td>\n",
              "      <td>25.67</td>\n",
              "    </tr>\n",
              "    <tr>\n",
              "      <th>2</th>\n",
              "      <td>11.48</td>\n",
              "      <td>22.7</td>\n",
              "      <td>23.77</td>\n",
              "    </tr>\n",
              "    <tr>\n",
              "      <th>3</th>\n",
              "      <td>19.01</td>\n",
              "      <td>12.7</td>\n",
              "      <td>16.53</td>\n",
              "    </tr>\n",
              "    <tr>\n",
              "      <th>4</th>\n",
              "      <td>7.34</td>\n",
              "      <td>22.6</td>\n",
              "      <td>27.74</td>\n",
              "    </tr>\n",
              "  </tbody>\n",
              "</table>\n",
              "</div>"
            ],
            "text/plain": [
              "       x  target_y  predicted_y\n",
              "0   8.44      22.2        26.69\n",
              "1   9.50      25.0        25.67\n",
              "2  11.48      22.7        23.77\n",
              "3  19.01      12.7        16.53\n",
              "4   7.34      22.6        27.74"
            ]
          },
          "metadata": {
            "tags": []
          },
          "execution_count": 117
        }
      ]
    },
    {
      "cell_type": "code",
      "metadata": {
        "id": "XlDlo2zeIWzg",
        "colab_type": "code",
        "colab": {}
      },
      "source": [
        ""
      ],
      "execution_count": 0,
      "outputs": []
    },
    {
      "cell_type": "code",
      "metadata": {
        "id": "V9lknK_pIWlR",
        "colab_type": "code",
        "colab": {}
      },
      "source": [
        ""
      ],
      "execution_count": 0,
      "outputs": []
    }
  ]
}